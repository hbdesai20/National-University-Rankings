{
 "cells": [
  {
   "cell_type": "markdown",
   "id": "ceb3fa34",
   "metadata": {
    "papermill": {
     "duration": 0.006815,
     "end_time": "2022-12-07T16:21:49.396792",
     "exception": false,
     "start_time": "2022-12-07T16:21:49.389977",
     "status": "completed"
    },
    "tags": []
   },
   "source": [
    "**Analyzing National University Rankings**"
   ]
  },
  {
   "cell_type": "markdown",
   "id": "d66027da",
   "metadata": {
    "papermill": {
     "duration": 0.005338,
     "end_time": "2022-12-07T16:21:49.407983",
     "exception": false,
     "start_time": "2022-12-07T16:21:49.402645",
     "status": "completed"
    },
    "tags": []
   },
   "source": [
    "This notebook analyzes the tuition and enrollment information available for ~230 school. Our goal is to see if there are any patterns between the number of students enrolled and the tuition of the school. For example, is it more costly to attend a school with a lower student body relative to others. We also take a look at the regions that these schools are located to see if there is a correlation between region and cost."
   ]
  },
  {
   "cell_type": "code",
   "execution_count": 1,
   "id": "0b586bf3",
   "metadata": {
    "_cell_guid": "b1076dfc-b9ad-4769-8c92-a6c4dae69d19",
    "_uuid": "8f2839f25d086af736a60e9eeb907d3b93b6e0e5",
    "execution": {
     "iopub.execute_input": "2022-12-07T16:21:49.420930Z",
     "iopub.status.busy": "2022-12-07T16:21:49.420504Z",
     "iopub.status.idle": "2022-12-07T16:21:49.439008Z",
     "shell.execute_reply": "2022-12-07T16:21:49.437646Z"
    },
    "papermill": {
     "duration": 0.027806,
     "end_time": "2022-12-07T16:21:49.441385",
     "exception": false,
     "start_time": "2022-12-07T16:21:49.413579",
     "status": "completed"
    },
    "tags": []
   },
   "outputs": [],
   "source": [
    "#Import libaries\n",
    "import numpy as np \n",
    "import pandas as pd\n",
    "import os\n",
    "import seaborn as sns\n",
    "sns.set_style('darkgrid')\n",
    "from matplotlib import pyplot as plt\n",
    "import warnings\n",
    "warnings.filterwarnings('ignore') # setting ignore as a parameter"
   ]
  },
  {
   "cell_type": "code",
   "execution_count": 2,
   "id": "052c1e9c",
   "metadata": {
    "execution": {
     "iopub.execute_input": "2022-12-07T16:21:49.454691Z",
     "iopub.status.busy": "2022-12-07T16:21:49.453747Z",
     "iopub.status.idle": "2022-12-07T16:21:50.407819Z",
     "shell.execute_reply": "2022-12-07T16:21:50.406714Z"
    },
    "papermill": {
     "duration": 0.962959,
     "end_time": "2022-12-07T16:21:50.410039",
     "exception": false,
     "start_time": "2022-12-07T16:21:49.447080",
     "status": "completed"
    },
    "tags": []
   },
   "outputs": [
    {
     "data": {
      "text/plain": [
       "'c:\\\\Users\\\\17045\\\\Documents\\\\VS Code Workspaces\\\\Kaggle - National University Rankings'"
      ]
     },
     "execution_count": 2,
     "metadata": {},
     "output_type": "execute_result"
    }
   ],
   "source": [
    "#Set path for present working directory\n",
    "pwd = os.getcwd()\n",
    "pwd"
   ]
  },
  {
   "cell_type": "code",
   "execution_count": 3,
   "id": "0069ac00",
   "metadata": {
    "execution": {
     "iopub.execute_input": "2022-12-07T16:21:50.423185Z",
     "iopub.status.busy": "2022-12-07T16:21:50.422663Z",
     "iopub.status.idle": "2022-12-07T16:21:50.459745Z",
     "shell.execute_reply": "2022-12-07T16:21:50.458926Z"
    },
    "papermill": {
     "duration": 0.045731,
     "end_time": "2022-12-07T16:21:50.461470",
     "exception": false,
     "start_time": "2022-12-07T16:21:50.415739",
     "status": "completed"
    },
    "tags": []
   },
   "outputs": [
    {
     "data": {
      "text/html": [
       "<div>\n",
       "<style scoped>\n",
       "    .dataframe tbody tr th:only-of-type {\n",
       "        vertical-align: middle;\n",
       "    }\n",
       "\n",
       "    .dataframe tbody tr th {\n",
       "        vertical-align: top;\n",
       "    }\n",
       "\n",
       "    .dataframe thead th {\n",
       "        text-align: right;\n",
       "    }\n",
       "</style>\n",
       "<table border=\"1\" class=\"dataframe\">\n",
       "  <thead>\n",
       "    <tr style=\"text-align: right;\">\n",
       "      <th></th>\n",
       "      <th>index</th>\n",
       "      <th>Name</th>\n",
       "      <th>Location</th>\n",
       "      <th>Rank</th>\n",
       "      <th>Description</th>\n",
       "      <th>Tuition and fees</th>\n",
       "      <th>In-state</th>\n",
       "      <th>Undergrad Enrollment</th>\n",
       "    </tr>\n",
       "  </thead>\n",
       "  <tbody>\n",
       "    <tr>\n",
       "      <th>0</th>\n",
       "      <td>0</td>\n",
       "      <td>Princeton University</td>\n",
       "      <td>Princeton, NJ</td>\n",
       "      <td>1</td>\n",
       "      <td>Princeton, the fourth-oldest college in the Un...</td>\n",
       "      <td>$45,320</td>\n",
       "      <td>NaN</td>\n",
       "      <td>5,402</td>\n",
       "    </tr>\n",
       "    <tr>\n",
       "      <th>1</th>\n",
       "      <td>1</td>\n",
       "      <td>Harvard University</td>\n",
       "      <td>Cambridge, MA</td>\n",
       "      <td>2</td>\n",
       "      <td>Harvard is located in Cambridge, Massachusetts...</td>\n",
       "      <td>$47,074</td>\n",
       "      <td>NaN</td>\n",
       "      <td>6,699</td>\n",
       "    </tr>\n",
       "    <tr>\n",
       "      <th>2</th>\n",
       "      <td>2</td>\n",
       "      <td>University of Chicago</td>\n",
       "      <td>Chicago, IL</td>\n",
       "      <td>3</td>\n",
       "      <td>The University of Chicago, situated in Chicago...</td>\n",
       "      <td>$52,491</td>\n",
       "      <td>NaN</td>\n",
       "      <td>5,844</td>\n",
       "    </tr>\n",
       "    <tr>\n",
       "      <th>3</th>\n",
       "      <td>3</td>\n",
       "      <td>Yale University</td>\n",
       "      <td>New Haven, CT</td>\n",
       "      <td>3</td>\n",
       "      <td>Yale University, located in New Haven, Connect...</td>\n",
       "      <td>$49,480</td>\n",
       "      <td>NaN</td>\n",
       "      <td>5,532</td>\n",
       "    </tr>\n",
       "    <tr>\n",
       "      <th>4</th>\n",
       "      <td>4</td>\n",
       "      <td>Columbia University</td>\n",
       "      <td>New York, NY</td>\n",
       "      <td>5</td>\n",
       "      <td>Columbia University, located in Manhattan's Mo...</td>\n",
       "      <td>$55,056</td>\n",
       "      <td>NaN</td>\n",
       "      <td>6,102</td>\n",
       "    </tr>\n",
       "  </tbody>\n",
       "</table>\n",
       "</div>"
      ],
      "text/plain": [
       "   index                   Name       Location  Rank  \\\n",
       "0      0   Princeton University  Princeton, NJ     1   \n",
       "1      1     Harvard University  Cambridge, MA     2   \n",
       "2      2  University of Chicago    Chicago, IL     3   \n",
       "3      3        Yale University  New Haven, CT     3   \n",
       "4      4    Columbia University   New York, NY     5   \n",
       "\n",
       "                                         Description Tuition and fees  \\\n",
       "0  Princeton, the fourth-oldest college in the Un...         $45,320    \n",
       "1  Harvard is located in Cambridge, Massachusetts...         $47,074    \n",
       "2  The University of Chicago, situated in Chicago...         $52,491    \n",
       "3  Yale University, located in New Haven, Connect...         $49,480    \n",
       "4  Columbia University, located in Manhattan's Mo...         $55,056    \n",
       "\n",
       "  In-state Undergrad Enrollment  \n",
       "0      NaN                5,402  \n",
       "1      NaN                6,699  \n",
       "2      NaN                5,844  \n",
       "3      NaN                5,532  \n",
       "4      NaN                6,102  "
      ]
     },
     "execution_count": 3,
     "metadata": {},
     "output_type": "execute_result"
    }
   ],
   "source": [
    "#Create df of university csv\n",
    "#Print out first 5 rows\n",
    "\n",
    "uni_ranks = pd.read_csv(pwd+'\\\\National Universities Rankings.csv')\n",
    "uni_ranks.head()"
   ]
  },
  {
   "cell_type": "code",
   "execution_count": 4,
   "id": "cfd7aafa",
   "metadata": {
    "execution": {
     "iopub.execute_input": "2022-12-07T16:21:50.474354Z",
     "iopub.status.busy": "2022-12-07T16:21:50.473968Z",
     "iopub.status.idle": "2022-12-07T16:21:50.501601Z",
     "shell.execute_reply": "2022-12-07T16:21:50.500754Z"
    },
    "papermill": {
     "duration": 0.036085,
     "end_time": "2022-12-07T16:21:50.503391",
     "exception": false,
     "start_time": "2022-12-07T16:21:50.467306",
     "status": "completed"
    },
    "tags": []
   },
   "outputs": [
    {
     "data": {
      "text/html": [
       "<div>\n",
       "<style scoped>\n",
       "    .dataframe tbody tr th:only-of-type {\n",
       "        vertical-align: middle;\n",
       "    }\n",
       "\n",
       "    .dataframe tbody tr th {\n",
       "        vertical-align: top;\n",
       "    }\n",
       "\n",
       "    .dataframe thead th {\n",
       "        text-align: right;\n",
       "    }\n",
       "</style>\n",
       "<table border=\"1\" class=\"dataframe\">\n",
       "  <thead>\n",
       "    <tr style=\"text-align: right;\">\n",
       "      <th></th>\n",
       "      <th>index</th>\n",
       "      <th>Name</th>\n",
       "      <th>Location</th>\n",
       "      <th>Rank</th>\n",
       "      <th>Description</th>\n",
       "      <th>Tuition and fees</th>\n",
       "      <th>In-state</th>\n",
       "      <th>Undergrad Enrollment</th>\n",
       "      <th>City</th>\n",
       "      <th>State</th>\n",
       "    </tr>\n",
       "  </thead>\n",
       "  <tbody>\n",
       "    <tr>\n",
       "      <th>0</th>\n",
       "      <td>0</td>\n",
       "      <td>Princeton University</td>\n",
       "      <td>Princeton, NJ</td>\n",
       "      <td>1</td>\n",
       "      <td>Princeton, the fourth-oldest college in the Un...</td>\n",
       "      <td>45320</td>\n",
       "      <td>NaN</td>\n",
       "      <td>5402</td>\n",
       "      <td>Princeton</td>\n",
       "      <td>NJ</td>\n",
       "    </tr>\n",
       "    <tr>\n",
       "      <th>1</th>\n",
       "      <td>1</td>\n",
       "      <td>Harvard University</td>\n",
       "      <td>Cambridge, MA</td>\n",
       "      <td>2</td>\n",
       "      <td>Harvard is located in Cambridge, Massachusetts...</td>\n",
       "      <td>47074</td>\n",
       "      <td>NaN</td>\n",
       "      <td>6699</td>\n",
       "      <td>Cambridge</td>\n",
       "      <td>MA</td>\n",
       "    </tr>\n",
       "    <tr>\n",
       "      <th>2</th>\n",
       "      <td>2</td>\n",
       "      <td>University of Chicago</td>\n",
       "      <td>Chicago, IL</td>\n",
       "      <td>3</td>\n",
       "      <td>The University of Chicago, situated in Chicago...</td>\n",
       "      <td>52491</td>\n",
       "      <td>NaN</td>\n",
       "      <td>5844</td>\n",
       "      <td>Chicago</td>\n",
       "      <td>IL</td>\n",
       "    </tr>\n",
       "  </tbody>\n",
       "</table>\n",
       "</div>"
      ],
      "text/plain": [
       "   index                   Name       Location  Rank  \\\n",
       "0      0   Princeton University  Princeton, NJ     1   \n",
       "1      1     Harvard University  Cambridge, MA     2   \n",
       "2      2  University of Chicago    Chicago, IL     3   \n",
       "\n",
       "                                         Description Tuition and fees  \\\n",
       "0  Princeton, the fourth-oldest college in the Un...           45320    \n",
       "1  Harvard is located in Cambridge, Massachusetts...           47074    \n",
       "2  The University of Chicago, situated in Chicago...           52491    \n",
       "\n",
       "  In-state Undergrad Enrollment       City State  \n",
       "0      NaN                 5402  Princeton    NJ  \n",
       "1      NaN                 6699  Cambridge    MA  \n",
       "2      NaN                 5844    Chicago    IL  "
      ]
     },
     "execution_count": 4,
     "metadata": {},
     "output_type": "execute_result"
    }
   ],
   "source": [
    "#Remove $ and ',' from tuition, in-state, and enrollment columns\n",
    "#Split out location into city and state\n",
    "cols_to_clean = ['Tuition and fees', 'In-state', 'Undergrad Enrollment']\n",
    "uni_ranks[cols_to_clean] = uni_ranks[cols_to_clean].apply(lambda x: x.str.replace('$',''))\n",
    "uni_ranks[cols_to_clean] = uni_ranks[cols_to_clean].apply(lambda x: x.str.replace(',',''))\n",
    "uni_ranks[['City','State']]= uni_ranks['Location'].str.split(',', expand = True)\n",
    "uni_ranks.iloc[:3]"
   ]
  },
  {
   "cell_type": "code",
   "execution_count": 5,
   "id": "7fe70286",
   "metadata": {
    "execution": {
     "iopub.execute_input": "2022-12-07T16:21:50.516207Z",
     "iopub.status.busy": "2022-12-07T16:21:50.515923Z",
     "iopub.status.idle": "2022-12-07T16:21:50.526193Z",
     "shell.execute_reply": "2022-12-07T16:21:50.525316Z"
    },
    "papermill": {
     "duration": 0.018793,
     "end_time": "2022-12-07T16:21:50.528008",
     "exception": false,
     "start_time": "2022-12-07T16:21:50.509215",
     "status": "completed"
    },
    "tags": []
   },
   "outputs": [
    {
     "data": {
      "text/html": [
       "<div>\n",
       "<style scoped>\n",
       "    .dataframe tbody tr th:only-of-type {\n",
       "        vertical-align: middle;\n",
       "    }\n",
       "\n",
       "    .dataframe tbody tr th {\n",
       "        vertical-align: top;\n",
       "    }\n",
       "\n",
       "    .dataframe thead th {\n",
       "        text-align: right;\n",
       "    }\n",
       "</style>\n",
       "<table border=\"1\" class=\"dataframe\">\n",
       "  <thead>\n",
       "    <tr style=\"text-align: right;\">\n",
       "      <th></th>\n",
       "      <th>index</th>\n",
       "      <th>Name</th>\n",
       "      <th>Location</th>\n",
       "      <th>Rank</th>\n",
       "      <th>Description</th>\n",
       "      <th>Tuition and fees</th>\n",
       "      <th>In-state</th>\n",
       "      <th>Undergrad Enrollment</th>\n",
       "      <th>City</th>\n",
       "      <th>State</th>\n",
       "    </tr>\n",
       "  </thead>\n",
       "  <tbody>\n",
       "  </tbody>\n",
       "</table>\n",
       "</div>"
      ],
      "text/plain": [
       "Empty DataFrame\n",
       "Columns: [index, Name, Location, Rank, Description, Tuition and fees, In-state, Undergrad Enrollment, City, State]\n",
       "Index: []"
      ]
     },
     "execution_count": 5,
     "metadata": {},
     "output_type": "execute_result"
    }
   ],
   "source": [
    "#Filter out for only NJ states as a test\n",
    "uni_test = uni_ranks[uni_ranks['State']== 'NJ']\n",
    "uni_test.head()"
   ]
  },
  {
   "cell_type": "code",
   "execution_count": 6,
   "id": "4e3467b7",
   "metadata": {
    "execution": {
     "iopub.execute_input": "2022-12-07T16:21:50.542055Z",
     "iopub.status.busy": "2022-12-07T16:21:50.541769Z",
     "iopub.status.idle": "2022-12-07T16:21:50.550923Z",
     "shell.execute_reply": "2022-12-07T16:21:50.550000Z"
    },
    "papermill": {
     "duration": 0.019402,
     "end_time": "2022-12-07T16:21:50.553236",
     "exception": false,
     "start_time": "2022-12-07T16:21:50.533834",
     "status": "completed"
    },
    "tags": []
   },
   "outputs": [],
   "source": [
    "#Remove any whitespace that may cause error in object dtypes\n",
    "#test filter shows no returns for filtering for strings\n",
    "cols_to_strip = ['Name', 'Description','City','State']\n",
    "uni_ranks[cols_to_strip] = uni_ranks[cols_to_strip].apply(lambda x: x.str.strip())"
   ]
  },
  {
   "cell_type": "code",
   "execution_count": 7,
   "id": "b552cbbb",
   "metadata": {
    "execution": {
     "iopub.execute_input": "2022-12-07T16:21:50.567768Z",
     "iopub.status.busy": "2022-12-07T16:21:50.566767Z",
     "iopub.status.idle": "2022-12-07T16:21:50.582166Z",
     "shell.execute_reply": "2022-12-07T16:21:50.581220Z"
    },
    "papermill": {
     "duration": 0.024413,
     "end_time": "2022-12-07T16:21:50.583975",
     "exception": false,
     "start_time": "2022-12-07T16:21:50.559562",
     "status": "completed"
    },
    "tags": []
   },
   "outputs": [
    {
     "data": {
      "text/html": [
       "<div>\n",
       "<style scoped>\n",
       "    .dataframe tbody tr th:only-of-type {\n",
       "        vertical-align: middle;\n",
       "    }\n",
       "\n",
       "    .dataframe tbody tr th {\n",
       "        vertical-align: top;\n",
       "    }\n",
       "\n",
       "    .dataframe thead th {\n",
       "        text-align: right;\n",
       "    }\n",
       "</style>\n",
       "<table border=\"1\" class=\"dataframe\">\n",
       "  <thead>\n",
       "    <tr style=\"text-align: right;\">\n",
       "      <th></th>\n",
       "      <th>index</th>\n",
       "      <th>Name</th>\n",
       "      <th>Location</th>\n",
       "      <th>Rank</th>\n",
       "      <th>Description</th>\n",
       "      <th>Tuition and fees</th>\n",
       "      <th>In-state</th>\n",
       "      <th>Undergrad Enrollment</th>\n",
       "      <th>City</th>\n",
       "      <th>State</th>\n",
       "    </tr>\n",
       "  </thead>\n",
       "  <tbody>\n",
       "    <tr>\n",
       "      <th>0</th>\n",
       "      <td>0</td>\n",
       "      <td>Princeton University</td>\n",
       "      <td>Princeton, NJ</td>\n",
       "      <td>1</td>\n",
       "      <td>Princeton, the fourth-oldest college in the Un...</td>\n",
       "      <td>45320</td>\n",
       "      <td>NaN</td>\n",
       "      <td>5402</td>\n",
       "      <td>Princeton</td>\n",
       "      <td>NJ</td>\n",
       "    </tr>\n",
       "    <tr>\n",
       "      <th>69</th>\n",
       "      <td>69</td>\n",
       "      <td>Rutgers University--New Brunswick</td>\n",
       "      <td>Piscataway, NJ</td>\n",
       "      <td>70</td>\n",
       "      <td>For high school students who can't decide what...</td>\n",
       "      <td>30023</td>\n",
       "      <td>14372</td>\n",
       "      <td>35484</td>\n",
       "      <td>Piscataway</td>\n",
       "      <td>NJ</td>\n",
       "    </tr>\n",
       "    <tr>\n",
       "      <th>71</th>\n",
       "      <td>71</td>\n",
       "      <td>Stevens Institute of Technology</td>\n",
       "      <td>Hoboken, NJ</td>\n",
       "      <td>71</td>\n",
       "      <td>Innovation and entrepreneurship is stressed at...</td>\n",
       "      <td>48838</td>\n",
       "      <td>NaN</td>\n",
       "      <td>2873</td>\n",
       "      <td>Hoboken</td>\n",
       "      <td>NJ</td>\n",
       "    </tr>\n",
       "    <tr>\n",
       "      <th>118</th>\n",
       "      <td>118</td>\n",
       "      <td>Seton Hall University</td>\n",
       "      <td>South Orange, NJ</td>\n",
       "      <td>118</td>\n",
       "      <td>Seton Hall University is a private, Catholic s...</td>\n",
       "      <td>39258</td>\n",
       "      <td>NaN</td>\n",
       "      <td>6090</td>\n",
       "      <td>South Orange</td>\n",
       "      <td>NJ</td>\n",
       "    </tr>\n",
       "    <tr>\n",
       "      <th>137</th>\n",
       "      <td>137</td>\n",
       "      <td>New Jersey Institute of Technology</td>\n",
       "      <td>Newark, NJ</td>\n",
       "      <td>135</td>\n",
       "      <td>Founded in 1881, New Jersey Institute of Techn...</td>\n",
       "      <td>30326</td>\n",
       "      <td>16108</td>\n",
       "      <td>8008</td>\n",
       "      <td>Newark</td>\n",
       "      <td>NJ</td>\n",
       "    </tr>\n",
       "  </tbody>\n",
       "</table>\n",
       "</div>"
      ],
      "text/plain": [
       "     index                                Name          Location  Rank  \\\n",
       "0        0                Princeton University     Princeton, NJ     1   \n",
       "69      69   Rutgers University--New Brunswick    Piscataway, NJ    70   \n",
       "71      71     Stevens Institute of Technology       Hoboken, NJ    71   \n",
       "118    118               Seton Hall University  South Orange, NJ   118   \n",
       "137    137  New Jersey Institute of Technology        Newark, NJ   135   \n",
       "\n",
       "                                           Description Tuition and fees  \\\n",
       "0    Princeton, the fourth-oldest college in the Un...           45320    \n",
       "69   For high school students who can't decide what...           30023    \n",
       "71   Innovation and entrepreneurship is stressed at...           48838    \n",
       "118  Seton Hall University is a private, Catholic s...           39258    \n",
       "137  Founded in 1881, New Jersey Institute of Techn...           30326    \n",
       "\n",
       "    In-state Undergrad Enrollment          City State  \n",
       "0        NaN                 5402     Princeton    NJ  \n",
       "69    14372                 35484    Piscataway    NJ  \n",
       "71       NaN                 2873       Hoboken    NJ  \n",
       "118      NaN                 6090  South Orange    NJ  \n",
       "137   16108                  8008        Newark    NJ  "
      ]
     },
     "execution_count": 7,
     "metadata": {},
     "output_type": "execute_result"
    }
   ],
   "source": [
    "#Test NJ filter to see if values are returned\n",
    "uni_strip_test = uni_ranks[uni_ranks['State']== 'NJ']\n",
    "uni_strip_test.head()"
   ]
  },
  {
   "cell_type": "code",
   "execution_count": 8,
   "id": "e2c84342",
   "metadata": {
    "execution": {
     "iopub.execute_input": "2022-12-07T16:21:50.597983Z",
     "iopub.status.busy": "2022-12-07T16:21:50.597586Z",
     "iopub.status.idle": "2022-12-07T16:21:50.604403Z",
     "shell.execute_reply": "2022-12-07T16:21:50.603222Z"
    },
    "papermill": {
     "duration": 0.016041,
     "end_time": "2022-12-07T16:21:50.606232",
     "exception": false,
     "start_time": "2022-12-07T16:21:50.590191",
     "status": "completed"
    },
    "tags": []
   },
   "outputs": [],
   "source": [
    "#Create lists for individual regions to categorize states into their respective regions\n",
    "Northeast = ['CT','DE','ME', 'MD',\n",
    "            'MA','NH','NJ','NY',\n",
    "            'PA','RI','VT', 'DC']\n",
    "South = ['AL', 'AR', 'TX', 'OK',\n",
    "        'FL','GA','KY','LA','MS',\n",
    "        'NC','OK','SC','TN', 'VA',\n",
    "        'WV']\n",
    "Midwest = ['IL','IN','IA','KS',\n",
    "          'MI','MN','MO','NE',\n",
    "          'ND','OH','SD','WI']\n",
    "West = ['AK', 'AZ', 'NM', 'CA',\n",
    "       'CO','HI','ID','MT','NV',\n",
    "       'OR','UT', 'WA', 'WY']"
   ]
  },
  {
   "cell_type": "code",
   "execution_count": 9,
   "id": "dda164d2",
   "metadata": {
    "execution": {
     "iopub.execute_input": "2022-12-07T16:21:50.619834Z",
     "iopub.status.busy": "2022-12-07T16:21:50.619435Z",
     "iopub.status.idle": "2022-12-07T16:21:50.625189Z",
     "shell.execute_reply": "2022-12-07T16:21:50.624143Z"
    },
    "papermill": {
     "duration": 0.014645,
     "end_time": "2022-12-07T16:21:50.626979",
     "exception": false,
     "start_time": "2022-12-07T16:21:50.612334",
     "status": "completed"
    },
    "tags": []
   },
   "outputs": [],
   "source": [
    "#Create dictionary from state lists into regions\n",
    "regions = {}\n",
    "for key in Northeast:\n",
    "    regions[key] = 'Northeast'\n",
    "for key in South:\n",
    "    regions[key] = 'South'\n",
    "for key in Midwest:\n",
    "    regions[key] = 'Midwest'\n",
    "for key in West:\n",
    "    regions[key] = 'West'"
   ]
  },
  {
   "cell_type": "code",
   "execution_count": 10,
   "id": "20f36733",
   "metadata": {
    "execution": {
     "iopub.execute_input": "2022-12-07T16:21:50.640695Z",
     "iopub.status.busy": "2022-12-07T16:21:50.640294Z",
     "iopub.status.idle": "2022-12-07T16:21:50.655180Z",
     "shell.execute_reply": "2022-12-07T16:21:50.654594Z"
    },
    "papermill": {
     "duration": 0.024539,
     "end_time": "2022-12-07T16:21:50.657578",
     "exception": false,
     "start_time": "2022-12-07T16:21:50.633039",
     "status": "completed"
    },
    "tags": []
   },
   "outputs": [
    {
     "data": {
      "text/html": [
       "<div>\n",
       "<style scoped>\n",
       "    .dataframe tbody tr th:only-of-type {\n",
       "        vertical-align: middle;\n",
       "    }\n",
       "\n",
       "    .dataframe tbody tr th {\n",
       "        vertical-align: top;\n",
       "    }\n",
       "\n",
       "    .dataframe thead th {\n",
       "        text-align: right;\n",
       "    }\n",
       "</style>\n",
       "<table border=\"1\" class=\"dataframe\">\n",
       "  <thead>\n",
       "    <tr style=\"text-align: right;\">\n",
       "      <th></th>\n",
       "      <th>index</th>\n",
       "      <th>Name</th>\n",
       "      <th>Location</th>\n",
       "      <th>Rank</th>\n",
       "      <th>Description</th>\n",
       "      <th>Tuition and fees</th>\n",
       "      <th>In-state</th>\n",
       "      <th>Undergrad Enrollment</th>\n",
       "      <th>City</th>\n",
       "      <th>State</th>\n",
       "      <th>Region</th>\n",
       "    </tr>\n",
       "  </thead>\n",
       "  <tbody>\n",
       "    <tr>\n",
       "      <th>0</th>\n",
       "      <td>0</td>\n",
       "      <td>Princeton University</td>\n",
       "      <td>Princeton, NJ</td>\n",
       "      <td>1</td>\n",
       "      <td>Princeton, the fourth-oldest college in the Un...</td>\n",
       "      <td>45320</td>\n",
       "      <td>NaN</td>\n",
       "      <td>5402</td>\n",
       "      <td>Princeton</td>\n",
       "      <td>NJ</td>\n",
       "      <td>Northeast</td>\n",
       "    </tr>\n",
       "    <tr>\n",
       "      <th>1</th>\n",
       "      <td>1</td>\n",
       "      <td>Harvard University</td>\n",
       "      <td>Cambridge, MA</td>\n",
       "      <td>2</td>\n",
       "      <td>Harvard is located in Cambridge, Massachusetts...</td>\n",
       "      <td>47074</td>\n",
       "      <td>NaN</td>\n",
       "      <td>6699</td>\n",
       "      <td>Cambridge</td>\n",
       "      <td>MA</td>\n",
       "      <td>Northeast</td>\n",
       "    </tr>\n",
       "    <tr>\n",
       "      <th>2</th>\n",
       "      <td>2</td>\n",
       "      <td>University of Chicago</td>\n",
       "      <td>Chicago, IL</td>\n",
       "      <td>3</td>\n",
       "      <td>The University of Chicago, situated in Chicago...</td>\n",
       "      <td>52491</td>\n",
       "      <td>NaN</td>\n",
       "      <td>5844</td>\n",
       "      <td>Chicago</td>\n",
       "      <td>IL</td>\n",
       "      <td>Midwest</td>\n",
       "    </tr>\n",
       "    <tr>\n",
       "      <th>3</th>\n",
       "      <td>3</td>\n",
       "      <td>Yale University</td>\n",
       "      <td>New Haven, CT</td>\n",
       "      <td>3</td>\n",
       "      <td>Yale University, located in New Haven, Connect...</td>\n",
       "      <td>49480</td>\n",
       "      <td>NaN</td>\n",
       "      <td>5532</td>\n",
       "      <td>New Haven</td>\n",
       "      <td>CT</td>\n",
       "      <td>Northeast</td>\n",
       "    </tr>\n",
       "    <tr>\n",
       "      <th>4</th>\n",
       "      <td>4</td>\n",
       "      <td>Columbia University</td>\n",
       "      <td>New York, NY</td>\n",
       "      <td>5</td>\n",
       "      <td>Columbia University, located in Manhattan's Mo...</td>\n",
       "      <td>55056</td>\n",
       "      <td>NaN</td>\n",
       "      <td>6102</td>\n",
       "      <td>New York</td>\n",
       "      <td>NY</td>\n",
       "      <td>Northeast</td>\n",
       "    </tr>\n",
       "  </tbody>\n",
       "</table>\n",
       "</div>"
      ],
      "text/plain": [
       "   index                   Name       Location  Rank  \\\n",
       "0      0   Princeton University  Princeton, NJ     1   \n",
       "1      1     Harvard University  Cambridge, MA     2   \n",
       "2      2  University of Chicago    Chicago, IL     3   \n",
       "3      3        Yale University  New Haven, CT     3   \n",
       "4      4    Columbia University   New York, NY     5   \n",
       "\n",
       "                                         Description Tuition and fees  \\\n",
       "0  Princeton, the fourth-oldest college in the Un...           45320    \n",
       "1  Harvard is located in Cambridge, Massachusetts...           47074    \n",
       "2  The University of Chicago, situated in Chicago...           52491    \n",
       "3  Yale University, located in New Haven, Connect...           49480    \n",
       "4  Columbia University, located in Manhattan's Mo...           55056    \n",
       "\n",
       "  In-state Undergrad Enrollment       City State     Region  \n",
       "0      NaN                 5402  Princeton    NJ  Northeast  \n",
       "1      NaN                 6699  Cambridge    MA  Northeast  \n",
       "2      NaN                 5844    Chicago    IL    Midwest  \n",
       "3      NaN                 5532  New Haven    CT  Northeast  \n",
       "4      NaN                 6102   New York    NY  Northeast  "
      ]
     },
     "execution_count": 10,
     "metadata": {},
     "output_type": "execute_result"
    }
   ],
   "source": [
    "#Map regions to respective states in uni by state df\n",
    "uni_ranks['Region'] = uni_ranks['State'].map(regions)\n",
    "uni_ranks.head()"
   ]
  },
  {
   "cell_type": "code",
   "execution_count": 11,
   "id": "d21c9aad",
   "metadata": {
    "execution": {
     "iopub.execute_input": "2022-12-07T16:21:50.672112Z",
     "iopub.status.busy": "2022-12-07T16:21:50.671790Z",
     "iopub.status.idle": "2022-12-07T16:21:50.692518Z",
     "shell.execute_reply": "2022-12-07T16:21:50.691456Z"
    },
    "papermill": {
     "duration": 0.030661,
     "end_time": "2022-12-07T16:21:50.694903",
     "exception": false,
     "start_time": "2022-12-07T16:21:50.664242",
     "status": "completed"
    },
    "tags": []
   },
   "outputs": [
    {
     "data": {
      "text/html": [
       "<div>\n",
       "<style scoped>\n",
       "    .dataframe tbody tr th:only-of-type {\n",
       "        vertical-align: middle;\n",
       "    }\n",
       "\n",
       "    .dataframe tbody tr th {\n",
       "        vertical-align: top;\n",
       "    }\n",
       "\n",
       "    .dataframe thead th {\n",
       "        text-align: right;\n",
       "    }\n",
       "</style>\n",
       "<table border=\"1\" class=\"dataframe\">\n",
       "  <thead>\n",
       "    <tr style=\"text-align: right;\">\n",
       "      <th></th>\n",
       "      <th>Name</th>\n",
       "      <th>City</th>\n",
       "      <th>State</th>\n",
       "      <th>Region</th>\n",
       "      <th>Tuition and fees</th>\n",
       "      <th>In-state</th>\n",
       "      <th>Undergrad Enrollment</th>\n",
       "      <th>Description</th>\n",
       "    </tr>\n",
       "    <tr>\n",
       "      <th>Rank</th>\n",
       "      <th></th>\n",
       "      <th></th>\n",
       "      <th></th>\n",
       "      <th></th>\n",
       "      <th></th>\n",
       "      <th></th>\n",
       "      <th></th>\n",
       "      <th></th>\n",
       "    </tr>\n",
       "  </thead>\n",
       "  <tbody>\n",
       "    <tr>\n",
       "      <th>1</th>\n",
       "      <td>Princeton University</td>\n",
       "      <td>Princeton</td>\n",
       "      <td>NJ</td>\n",
       "      <td>Northeast</td>\n",
       "      <td>45320</td>\n",
       "      <td>NaN</td>\n",
       "      <td>5402</td>\n",
       "      <td>Princeton, the fourth-oldest college in the Un...</td>\n",
       "    </tr>\n",
       "    <tr>\n",
       "      <th>2</th>\n",
       "      <td>Harvard University</td>\n",
       "      <td>Cambridge</td>\n",
       "      <td>MA</td>\n",
       "      <td>Northeast</td>\n",
       "      <td>47074</td>\n",
       "      <td>NaN</td>\n",
       "      <td>6699</td>\n",
       "      <td>Harvard is located in Cambridge, Massachusetts...</td>\n",
       "    </tr>\n",
       "    <tr>\n",
       "      <th>3</th>\n",
       "      <td>University of Chicago</td>\n",
       "      <td>Chicago</td>\n",
       "      <td>IL</td>\n",
       "      <td>Midwest</td>\n",
       "      <td>52491</td>\n",
       "      <td>NaN</td>\n",
       "      <td>5844</td>\n",
       "      <td>The University of Chicago, situated in Chicago...</td>\n",
       "    </tr>\n",
       "    <tr>\n",
       "      <th>3</th>\n",
       "      <td>Yale University</td>\n",
       "      <td>New Haven</td>\n",
       "      <td>CT</td>\n",
       "      <td>Northeast</td>\n",
       "      <td>49480</td>\n",
       "      <td>NaN</td>\n",
       "      <td>5532</td>\n",
       "      <td>Yale University, located in New Haven, Connect...</td>\n",
       "    </tr>\n",
       "    <tr>\n",
       "      <th>5</th>\n",
       "      <td>Columbia University</td>\n",
       "      <td>New York</td>\n",
       "      <td>NY</td>\n",
       "      <td>Northeast</td>\n",
       "      <td>55056</td>\n",
       "      <td>NaN</td>\n",
       "      <td>6102</td>\n",
       "      <td>Columbia University, located in Manhattan's Mo...</td>\n",
       "    </tr>\n",
       "    <tr>\n",
       "      <th>...</th>\n",
       "      <td>...</td>\n",
       "      <td>...</td>\n",
       "      <td>...</td>\n",
       "      <td>...</td>\n",
       "      <td>...</td>\n",
       "      <td>...</td>\n",
       "      <td>...</td>\n",
       "      <td>...</td>\n",
       "    </tr>\n",
       "    <tr>\n",
       "      <th>220</th>\n",
       "      <td>University of Massachusetts--Dartmouth</td>\n",
       "      <td>North Dartmouth</td>\n",
       "      <td>MA</td>\n",
       "      <td>Northeast</td>\n",
       "      <td>19270</td>\n",
       "      <td>12588</td>\n",
       "      <td>7295</td>\n",
       "      <td>Located about 60 miles south of Boston, the Un...</td>\n",
       "    </tr>\n",
       "    <tr>\n",
       "      <th>220</th>\n",
       "      <td>University of Missouri--St. Louis</td>\n",
       "      <td>St. Louis</td>\n",
       "      <td>MO</td>\n",
       "      <td>Midwest</td>\n",
       "      <td>26277</td>\n",
       "      <td>10065</td>\n",
       "      <td>13569</td>\n",
       "      <td>Undergraduates at University of Missouri--St. ...</td>\n",
       "    </tr>\n",
       "    <tr>\n",
       "      <th>220</th>\n",
       "      <td>University of North Carolina--Greensboro</td>\n",
       "      <td>Greensboro</td>\n",
       "      <td>NC</td>\n",
       "      <td>South</td>\n",
       "      <td>21595</td>\n",
       "      <td>6733</td>\n",
       "      <td>15951</td>\n",
       "      <td>University of North Carolina--Greensboro is lo...</td>\n",
       "    </tr>\n",
       "    <tr>\n",
       "      <th>220</th>\n",
       "      <td>University of Southern Mississippi</td>\n",
       "      <td>Hattiesburg</td>\n",
       "      <td>MS</td>\n",
       "      <td>South</td>\n",
       "      <td>16094</td>\n",
       "      <td>7224</td>\n",
       "      <td>11840</td>\n",
       "      <td>The University of Southern Mississippi has two...</td>\n",
       "    </tr>\n",
       "    <tr>\n",
       "      <th>220</th>\n",
       "      <td>Utah State University</td>\n",
       "      <td>Logan</td>\n",
       "      <td>UT</td>\n",
       "      <td>West</td>\n",
       "      <td>19772</td>\n",
       "      <td>6866</td>\n",
       "      <td>25259</td>\n",
       "      <td>Founded in 1888, Utah State University is a pu...</td>\n",
       "    </tr>\n",
       "  </tbody>\n",
       "</table>\n",
       "<p>231 rows × 8 columns</p>\n",
       "</div>"
      ],
      "text/plain": [
       "                                          Name             City State  \\\n",
       "Rank                                                                    \n",
       "1                         Princeton University        Princeton    NJ   \n",
       "2                           Harvard University        Cambridge    MA   \n",
       "3                        University of Chicago          Chicago    IL   \n",
       "3                              Yale University        New Haven    CT   \n",
       "5                          Columbia University         New York    NY   \n",
       "...                                        ...              ...   ...   \n",
       "220     University of Massachusetts--Dartmouth  North Dartmouth    MA   \n",
       "220          University of Missouri--St. Louis        St. Louis    MO   \n",
       "220   University of North Carolina--Greensboro       Greensboro    NC   \n",
       "220         University of Southern Mississippi      Hattiesburg    MS   \n",
       "220                      Utah State University            Logan    UT   \n",
       "\n",
       "         Region Tuition and fees In-state Undergrad Enrollment  \\\n",
       "Rank                                                             \n",
       "1     Northeast           45320       NaN                 5402   \n",
       "2     Northeast           47074       NaN                 6699   \n",
       "3       Midwest           52491       NaN                 5844   \n",
       "3     Northeast           49480       NaN                 5532   \n",
       "5     Northeast           55056       NaN                 6102   \n",
       "...         ...              ...      ...                  ...   \n",
       "220   Northeast           19270    12588                  7295   \n",
       "220     Midwest           26277    10065                 13569   \n",
       "220       South           21595     6733                 15951   \n",
       "220       South           16094     7224                 11840   \n",
       "220        West           19772     6866                 25259   \n",
       "\n",
       "                                            Description  \n",
       "Rank                                                     \n",
       "1     Princeton, the fourth-oldest college in the Un...  \n",
       "2     Harvard is located in Cambridge, Massachusetts...  \n",
       "3     The University of Chicago, situated in Chicago...  \n",
       "3     Yale University, located in New Haven, Connect...  \n",
       "5     Columbia University, located in Manhattan's Mo...  \n",
       "...                                                 ...  \n",
       "220   Located about 60 miles south of Boston, the Un...  \n",
       "220   Undergraduates at University of Missouri--St. ...  \n",
       "220   University of North Carolina--Greensboro is lo...  \n",
       "220   The University of Southern Mississippi has two...  \n",
       "220   Founded in 1888, Utah State University is a pu...  \n",
       "\n",
       "[231 rows x 8 columns]"
      ]
     },
     "execution_count": 11,
     "metadata": {},
     "output_type": "execute_result"
    }
   ],
   "source": [
    "#Drop location and index column \n",
    "#Set city and state to index 2 and 3 after university name\n",
    "cols_to_drop = ['index','Location']\n",
    "uni_ranks.drop(cols_to_drop, axis = 1)\n",
    "cols_order = ['Rank','Name', 'City', 'State','Region','Tuition and fees','In-state',\n",
    "              'Undergrad Enrollment','Description']\n",
    "uni_ranks = uni_ranks[cols_order]\n",
    "uni_ranks.set_index('Rank')"
   ]
  },
  {
   "cell_type": "code",
   "execution_count": 12,
   "id": "42bcf7ca",
   "metadata": {
    "execution": {
     "iopub.execute_input": "2022-12-07T16:21:50.710099Z",
     "iopub.status.busy": "2022-12-07T16:21:50.709768Z",
     "iopub.status.idle": "2022-12-07T16:21:50.715657Z",
     "shell.execute_reply": "2022-12-07T16:21:50.714865Z"
    },
    "papermill": {
     "duration": 0.015527,
     "end_time": "2022-12-07T16:21:50.717423",
     "exception": false,
     "start_time": "2022-12-07T16:21:50.701896",
     "status": "completed"
    },
    "tags": []
   },
   "outputs": [
    {
     "data": {
      "text/plain": [
       "'Data Shown as (rows, columns): (231, 9)'"
      ]
     },
     "execution_count": 12,
     "metadata": {},
     "output_type": "execute_result"
    }
   ],
   "source": [
    "#df shape\n",
    "'Data Shown as (rows, columns): ' + str(uni_ranks.shape)"
   ]
  },
  {
   "cell_type": "code",
   "execution_count": 13,
   "id": "596cd784",
   "metadata": {
    "execution": {
     "iopub.execute_input": "2022-12-07T16:21:50.732371Z",
     "iopub.status.busy": "2022-12-07T16:21:50.731975Z",
     "iopub.status.idle": "2022-12-07T16:21:50.739707Z",
     "shell.execute_reply": "2022-12-07T16:21:50.738731Z"
    },
    "papermill": {
     "duration": 0.017513,
     "end_time": "2022-12-07T16:21:50.741503",
     "exception": false,
     "start_time": "2022-12-07T16:21:50.723990",
     "status": "completed"
    },
    "tags": []
   },
   "outputs": [
    {
     "data": {
      "text/plain": [
       "Rank                     0\n",
       "Name                     0\n",
       "City                     0\n",
       "State                    0\n",
       "Region                   0\n",
       "Tuition and fees         0\n",
       "In-state                98\n",
       "Undergrad Enrollment     0\n",
       "Description              0\n",
       "dtype: int64"
      ]
     },
     "execution_count": 13,
     "metadata": {},
     "output_type": "execute_result"
    }
   ],
   "source": [
    "#How many nulls do we have in our data?\n",
    "uni_ranks.isna().sum()"
   ]
  },
  {
   "cell_type": "code",
   "execution_count": 14,
   "id": "66944c4a",
   "metadata": {
    "execution": {
     "iopub.execute_input": "2022-12-07T16:21:50.757226Z",
     "iopub.status.busy": "2022-12-07T16:21:50.756885Z",
     "iopub.status.idle": "2022-12-07T16:21:50.770894Z",
     "shell.execute_reply": "2022-12-07T16:21:50.770315Z"
    },
    "papermill": {
     "duration": 0.023877,
     "end_time": "2022-12-07T16:21:50.772722",
     "exception": false,
     "start_time": "2022-12-07T16:21:50.748845",
     "status": "completed"
    },
    "tags": []
   },
   "outputs": [
    {
     "data": {
      "text/html": [
       "<div>\n",
       "<style scoped>\n",
       "    .dataframe tbody tr th:only-of-type {\n",
       "        vertical-align: middle;\n",
       "    }\n",
       "\n",
       "    .dataframe tbody tr th {\n",
       "        vertical-align: top;\n",
       "    }\n",
       "\n",
       "    .dataframe thead th {\n",
       "        text-align: right;\n",
       "    }\n",
       "</style>\n",
       "<table border=\"1\" class=\"dataframe\">\n",
       "  <thead>\n",
       "    <tr style=\"text-align: right;\">\n",
       "      <th></th>\n",
       "      <th>Rank</th>\n",
       "      <th>Name</th>\n",
       "      <th>City</th>\n",
       "      <th>State</th>\n",
       "      <th>Region</th>\n",
       "      <th>Tuition and fees</th>\n",
       "      <th>In-state</th>\n",
       "      <th>Undergrad Enrollment</th>\n",
       "      <th>Description</th>\n",
       "    </tr>\n",
       "  </thead>\n",
       "  <tbody>\n",
       "    <tr>\n",
       "      <th>0</th>\n",
       "      <td>1</td>\n",
       "      <td>Princeton University</td>\n",
       "      <td>Princeton</td>\n",
       "      <td>NJ</td>\n",
       "      <td>Northeast</td>\n",
       "      <td>45320</td>\n",
       "      <td>0</td>\n",
       "      <td>5402</td>\n",
       "      <td>Princeton, the fourth-oldest college in the Un...</td>\n",
       "    </tr>\n",
       "    <tr>\n",
       "      <th>1</th>\n",
       "      <td>2</td>\n",
       "      <td>Harvard University</td>\n",
       "      <td>Cambridge</td>\n",
       "      <td>MA</td>\n",
       "      <td>Northeast</td>\n",
       "      <td>47074</td>\n",
       "      <td>0</td>\n",
       "      <td>6699</td>\n",
       "      <td>Harvard is located in Cambridge, Massachusetts...</td>\n",
       "    </tr>\n",
       "    <tr>\n",
       "      <th>2</th>\n",
       "      <td>3</td>\n",
       "      <td>University of Chicago</td>\n",
       "      <td>Chicago</td>\n",
       "      <td>IL</td>\n",
       "      <td>Midwest</td>\n",
       "      <td>52491</td>\n",
       "      <td>0</td>\n",
       "      <td>5844</td>\n",
       "      <td>The University of Chicago, situated in Chicago...</td>\n",
       "    </tr>\n",
       "    <tr>\n",
       "      <th>3</th>\n",
       "      <td>3</td>\n",
       "      <td>Yale University</td>\n",
       "      <td>New Haven</td>\n",
       "      <td>CT</td>\n",
       "      <td>Northeast</td>\n",
       "      <td>49480</td>\n",
       "      <td>0</td>\n",
       "      <td>5532</td>\n",
       "      <td>Yale University, located in New Haven, Connect...</td>\n",
       "    </tr>\n",
       "    <tr>\n",
       "      <th>4</th>\n",
       "      <td>5</td>\n",
       "      <td>Columbia University</td>\n",
       "      <td>New York</td>\n",
       "      <td>NY</td>\n",
       "      <td>Northeast</td>\n",
       "      <td>55056</td>\n",
       "      <td>0</td>\n",
       "      <td>6102</td>\n",
       "      <td>Columbia University, located in Manhattan's Mo...</td>\n",
       "    </tr>\n",
       "  </tbody>\n",
       "</table>\n",
       "</div>"
      ],
      "text/plain": [
       "   Rank                   Name       City State     Region Tuition and fees  \\\n",
       "0     1   Princeton University  Princeton    NJ  Northeast           45320    \n",
       "1     2     Harvard University  Cambridge    MA  Northeast           47074    \n",
       "2     3  University of Chicago    Chicago    IL    Midwest           52491    \n",
       "3     3        Yale University  New Haven    CT  Northeast           49480    \n",
       "4     5    Columbia University   New York    NY  Northeast           55056    \n",
       "\n",
       "  In-state Undergrad Enrollment  \\\n",
       "0        0                 5402   \n",
       "1        0                 6699   \n",
       "2        0                 5844   \n",
       "3        0                 5532   \n",
       "4        0                 6102   \n",
       "\n",
       "                                         Description  \n",
       "0  Princeton, the fourth-oldest college in the Un...  \n",
       "1  Harvard is located in Cambridge, Massachusetts...  \n",
       "2  The University of Chicago, situated in Chicago...  \n",
       "3  Yale University, located in New Haven, Connect...  \n",
       "4  Columbia University, located in Manhattan's Mo...  "
      ]
     },
     "execution_count": 14,
     "metadata": {},
     "output_type": "execute_result"
    }
   ],
   "source": [
    "#Replace null values for instate tuition with 0 assuming no information available\n",
    "#Could also assume the tuition option is the same for both in and out of state students for schools with no in state information\n",
    "uni_ranks['In-state'].fillna('0', inplace = True)\n",
    "uni_ranks.head()"
   ]
  },
  {
   "cell_type": "code",
   "execution_count": 15,
   "id": "8f4047f6",
   "metadata": {
    "execution": {
     "iopub.execute_input": "2022-12-07T16:21:50.789412Z",
     "iopub.status.busy": "2022-12-07T16:21:50.789055Z",
     "iopub.status.idle": "2022-12-07T16:21:50.795539Z",
     "shell.execute_reply": "2022-12-07T16:21:50.794533Z"
    },
    "papermill": {
     "duration": 0.017248,
     "end_time": "2022-12-07T16:21:50.797620",
     "exception": false,
     "start_time": "2022-12-07T16:21:50.780372",
     "status": "completed"
    },
    "tags": []
   },
   "outputs": [
    {
     "data": {
      "text/plain": [
       "Rank                     int64\n",
       "Name                    object\n",
       "City                    object\n",
       "State                   object\n",
       "Region                  object\n",
       "Tuition and fees        object\n",
       "In-state                object\n",
       "Undergrad Enrollment    object\n",
       "Description             object\n",
       "dtype: object"
      ]
     },
     "execution_count": 15,
     "metadata": {},
     "output_type": "execute_result"
    }
   ],
   "source": [
    "#df object data types\n",
    "uni_ranks.dtypes"
   ]
  },
  {
   "cell_type": "code",
   "execution_count": 16,
   "id": "fbaab933",
   "metadata": {
    "execution": {
     "iopub.execute_input": "2022-12-07T16:21:50.814337Z",
     "iopub.status.busy": "2022-12-07T16:21:50.813951Z",
     "iopub.status.idle": "2022-12-07T16:21:50.824755Z",
     "shell.execute_reply": "2022-12-07T16:21:50.823761Z"
    },
    "papermill": {
     "duration": 0.02226,
     "end_time": "2022-12-07T16:21:50.827584",
     "exception": false,
     "start_time": "2022-12-07T16:21:50.805324",
     "status": "completed"
    },
    "tags": []
   },
   "outputs": [
    {
     "data": {
      "text/plain": [
       "Rank                     int64\n",
       "Name                    object\n",
       "City                    object\n",
       "State                   object\n",
       "Region                  object\n",
       "Tuition and fees         int32\n",
       "In-state                 int32\n",
       "Undergrad Enrollment     int32\n",
       "Description             object\n",
       "dtype: object"
      ]
     },
     "execution_count": 16,
     "metadata": {},
     "output_type": "execute_result"
    }
   ],
   "source": [
    "#Tuition, in state, and enrollment are being read as objects. Convert columns into ints\n",
    "cols_to_convert = ['Tuition and fees', 'In-state','Undergrad Enrollment']\n",
    "uni_ranks[cols_to_convert] = uni_ranks[cols_to_convert].astype(int)\n",
    "\n",
    "uni_ranks.dtypes"
   ]
  },
  {
   "cell_type": "code",
   "execution_count": 17,
   "id": "65ed0c43",
   "metadata": {
    "execution": {
     "iopub.execute_input": "2022-12-07T16:21:50.844534Z",
     "iopub.status.busy": "2022-12-07T16:21:50.844137Z",
     "iopub.status.idle": "2022-12-07T16:21:50.860161Z",
     "shell.execute_reply": "2022-12-07T16:21:50.858969Z"
    },
    "papermill": {
     "duration": 0.027419,
     "end_time": "2022-12-07T16:21:50.862810",
     "exception": false,
     "start_time": "2022-12-07T16:21:50.835391",
     "status": "completed"
    },
    "tags": []
   },
   "outputs": [
    {
     "data": {
      "text/html": [
       "<div>\n",
       "<style scoped>\n",
       "    .dataframe tbody tr th:only-of-type {\n",
       "        vertical-align: middle;\n",
       "    }\n",
       "\n",
       "    .dataframe tbody tr th {\n",
       "        vertical-align: top;\n",
       "    }\n",
       "\n",
       "    .dataframe thead th {\n",
       "        text-align: right;\n",
       "    }\n",
       "</style>\n",
       "<table border=\"1\" class=\"dataframe\">\n",
       "  <thead>\n",
       "    <tr style=\"text-align: right;\">\n",
       "      <th></th>\n",
       "      <th>Rank</th>\n",
       "      <th>Name</th>\n",
       "      <th>City</th>\n",
       "      <th>State</th>\n",
       "      <th>Region</th>\n",
       "      <th>Tuition and fees</th>\n",
       "      <th>In-state</th>\n",
       "      <th>Undergrad Enrollment</th>\n",
       "      <th>Description</th>\n",
       "    </tr>\n",
       "  </thead>\n",
       "  <tbody>\n",
       "    <tr>\n",
       "      <th>21</th>\n",
       "      <td>20</td>\n",
       "      <td>University of California--Berkeley</td>\n",
       "      <td>Berkeley</td>\n",
       "      <td>CA</td>\n",
       "      <td>West</td>\n",
       "      <td>40191</td>\n",
       "      <td>13509</td>\n",
       "      <td>27496</td>\n",
       "      <td>The University of California--Berkeley, often ...</td>\n",
       "    </tr>\n",
       "    <tr>\n",
       "      <th>24</th>\n",
       "      <td>24</td>\n",
       "      <td>University of California--Los Angeles</td>\n",
       "      <td>Los Angeles</td>\n",
       "      <td>CA</td>\n",
       "      <td>West</td>\n",
       "      <td>39518</td>\n",
       "      <td>12836</td>\n",
       "      <td>29585</td>\n",
       "      <td>The University of California--Los Angeles, com...</td>\n",
       "    </tr>\n",
       "    <tr>\n",
       "      <th>25</th>\n",
       "      <td>24</td>\n",
       "      <td>University of Virginia</td>\n",
       "      <td>Charlottesville</td>\n",
       "      <td>VA</td>\n",
       "      <td>South</td>\n",
       "      <td>45066</td>\n",
       "      <td>15722</td>\n",
       "      <td>16736</td>\n",
       "      <td>Founded by Thomas Jefferson, the University of...</td>\n",
       "    </tr>\n",
       "    <tr>\n",
       "      <th>27</th>\n",
       "      <td>27</td>\n",
       "      <td>University of Michigan--Ann Arbor</td>\n",
       "      <td>Ann Arbor</td>\n",
       "      <td>MI</td>\n",
       "      <td>Midwest</td>\n",
       "      <td>43476</td>\n",
       "      <td>13856</td>\n",
       "      <td>28312</td>\n",
       "      <td>The University of Michigan boasts one of the b...</td>\n",
       "    </tr>\n",
       "    <tr>\n",
       "      <th>29</th>\n",
       "      <td>30</td>\n",
       "      <td>University of North Carolina--Chapel Hill</td>\n",
       "      <td>Chapel Hill</td>\n",
       "      <td>NC</td>\n",
       "      <td>South</td>\n",
       "      <td>33916</td>\n",
       "      <td>8834</td>\n",
       "      <td>18415</td>\n",
       "      <td>The University of North Carolina--Chapel Hill,...</td>\n",
       "    </tr>\n",
       "  </tbody>\n",
       "</table>\n",
       "</div>"
      ],
      "text/plain": [
       "    Rank                                       Name             City State  \\\n",
       "21    20         University of California--Berkeley         Berkeley    CA   \n",
       "24    24      University of California--Los Angeles      Los Angeles    CA   \n",
       "25    24                     University of Virginia  Charlottesville    VA   \n",
       "27    27          University of Michigan--Ann Arbor        Ann Arbor    MI   \n",
       "29    30  University of North Carolina--Chapel Hill      Chapel Hill    NC   \n",
       "\n",
       "     Region  Tuition and fees  In-state  Undergrad Enrollment  \\\n",
       "21     West             40191     13509                 27496   \n",
       "24     West             39518     12836                 29585   \n",
       "25    South             45066     15722                 16736   \n",
       "27  Midwest             43476     13856                 28312   \n",
       "29    South             33916      8834                 18415   \n",
       "\n",
       "                                          Description  \n",
       "21  The University of California--Berkeley, often ...  \n",
       "24  The University of California--Los Angeles, com...  \n",
       "25  Founded by Thomas Jefferson, the University of...  \n",
       "27  The University of Michigan boasts one of the b...  \n",
       "29  The University of North Carolina--Chapel Hill,...  "
      ]
     },
     "execution_count": 17,
     "metadata": {},
     "output_type": "execute_result"
    }
   ],
   "source": [
    "#Filter out for schools that have both out of state and in state fees information\n",
    "uni_instate_over0 = uni_ranks[uni_ranks['In-state'] > 0]\n",
    "uni_instate_over0.head()"
   ]
  },
  {
   "cell_type": "code",
   "execution_count": 21,
   "id": "1edb2e0b",
   "metadata": {
    "execution": {
     "iopub.execute_input": "2022-12-07T16:21:50.880076Z",
     "iopub.status.busy": "2022-12-07T16:21:50.879717Z",
     "iopub.status.idle": "2022-12-07T16:21:50.907875Z",
     "shell.execute_reply": "2022-12-07T16:21:50.906468Z"
    },
    "papermill": {
     "duration": 0.039419,
     "end_time": "2022-12-07T16:21:50.910225",
     "exception": false,
     "start_time": "2022-12-07T16:21:50.870806",
     "status": "completed"
    },
    "tags": []
   },
   "outputs": [
    {
     "name": "stdout",
     "output_type": "stream",
     "text": [
      "       Tuition and fees  Undergrad Enrollment\n",
      "count            231.00                231.00\n",
      "mean           33769.25              14946.62\n",
      "std            10756.73              10569.66\n",
      "min             5300.00               1001.00\n",
      "25%            25693.00               6238.50\n",
      "50%            31608.00              12949.00\n",
      "75%            42721.00              22145.50\n",
      "max            55056.00              54513.00\n",
      "       In-state  Undergrad Enrollment\n",
      "count    133.00                133.00\n",
      "mean   10895.71              20883.32\n",
      "std     3038.57               9674.16\n",
      "min     4965.00               1839.00\n",
      "25%     8820.00              13569.00\n",
      "50%    10622.00              20182.00\n",
      "75%    13296.00              26590.00\n",
      "max    18687.00              54513.00\n"
     ]
    }
   ],
   "source": [
    "#General Stats for both datasets\n",
    "#Using uni_ranks for stats on tuition and fees, uni_instate_over0 for in-state to account for null values in in-state fields\n",
    "print(uni_ranks[['Tuition and fees','Undergrad Enrollment']].describe().round(2))\n",
    "print(uni_instate_over0[['In-state','Undergrad Enrollment']].describe().round(2))"
   ]
  },
  {
   "cell_type": "code",
   "execution_count": 22,
   "id": "dba5f911",
   "metadata": {
    "execution": {
     "iopub.execute_input": "2022-12-07T16:21:50.927282Z",
     "iopub.status.busy": "2022-12-07T16:21:50.926457Z",
     "iopub.status.idle": "2022-12-07T16:21:50.948384Z",
     "shell.execute_reply": "2022-12-07T16:21:50.946977Z"
    },
    "papermill": {
     "duration": 0.032952,
     "end_time": "2022-12-07T16:21:50.950928",
     "exception": false,
     "start_time": "2022-12-07T16:21:50.917976",
     "status": "completed"
    },
    "tags": []
   },
   "outputs": [
    {
     "data": {
      "text/html": [
       "<div>\n",
       "<style scoped>\n",
       "    .dataframe tbody tr th:only-of-type {\n",
       "        vertical-align: middle;\n",
       "    }\n",
       "\n",
       "    .dataframe tbody tr th {\n",
       "        vertical-align: top;\n",
       "    }\n",
       "\n",
       "    .dataframe thead th {\n",
       "        text-align: right;\n",
       "    }\n",
       "</style>\n",
       "<table border=\"1\" class=\"dataframe\">\n",
       "  <thead>\n",
       "    <tr style=\"text-align: right;\">\n",
       "      <th></th>\n",
       "      <th></th>\n",
       "      <th>Tuition and fees</th>\n",
       "      <th>In-state</th>\n",
       "      <th>Undergrad Enrollment</th>\n",
       "    </tr>\n",
       "    <tr>\n",
       "      <th>State</th>\n",
       "      <th>Region</th>\n",
       "      <th></th>\n",
       "      <th></th>\n",
       "      <th></th>\n",
       "    </tr>\n",
       "  </thead>\n",
       "  <tbody>\n",
       "    <tr>\n",
       "      <th>DC</th>\n",
       "      <th>Northeast</th>\n",
       "      <td>42958.80</td>\n",
       "      <td>0.00</td>\n",
       "      <td>7398.20</td>\n",
       "    </tr>\n",
       "    <tr>\n",
       "      <th>NH</th>\n",
       "      <th>Northeast</th>\n",
       "      <td>41431.00</td>\n",
       "      <td>8812.00</td>\n",
       "      <td>8670.50</td>\n",
       "    </tr>\n",
       "    <tr>\n",
       "      <th>CT</th>\n",
       "      <th>Northeast</th>\n",
       "      <td>41042.67</td>\n",
       "      <td>4688.67</td>\n",
       "      <td>9868.00</td>\n",
       "    </tr>\n",
       "    <tr>\n",
       "      <th>MA</th>\n",
       "      <th>Northeast</th>\n",
       "      <td>40715.33</td>\n",
       "      <td>3549.33</td>\n",
       "      <td>8733.13</td>\n",
       "    </tr>\n",
       "    <tr>\n",
       "      <th>VT</th>\n",
       "      <th>Northeast</th>\n",
       "      <td>40364.00</td>\n",
       "      <td>17300.00</td>\n",
       "      <td>10973.00</td>\n",
       "    </tr>\n",
       "  </tbody>\n",
       "</table>\n",
       "</div>"
      ],
      "text/plain": [
       "                 Tuition and fees  In-state  Undergrad Enrollment\n",
       "State Region                                                     \n",
       "DC    Northeast          42958.80      0.00               7398.20\n",
       "NH    Northeast          41431.00   8812.00               8670.50\n",
       "CT    Northeast          41042.67   4688.67               9868.00\n",
       "MA    Northeast          40715.33   3549.33               8733.13\n",
       "VT    Northeast          40364.00  17300.00              10973.00"
      ]
     },
     "execution_count": 22,
     "metadata": {},
     "output_type": "execute_result"
    }
   ],
   "source": [
    "#Average tuition and enrollment by state for all school\n",
    "#Sort by tuition\n",
    "#Print out top 5 schools with highest average tuition\n",
    "uni_by_state_all = uni_ranks.groupby(['State','Region'])[cols_to_clean].mean().round(2)\n",
    "uni_by_state_all.sort_values('Tuition and fees', ascending = False, inplace = True)\n",
    "uni_by_state_all[:5]"
   ]
  },
  {
   "cell_type": "code",
   "execution_count": 23,
   "id": "0b7c662c",
   "metadata": {
    "execution": {
     "iopub.execute_input": "2022-12-07T16:21:50.968763Z",
     "iopub.status.busy": "2022-12-07T16:21:50.968360Z",
     "iopub.status.idle": "2022-12-07T16:21:50.986479Z",
     "shell.execute_reply": "2022-12-07T16:21:50.985291Z"
    },
    "papermill": {
     "duration": 0.030096,
     "end_time": "2022-12-07T16:21:50.989201",
     "exception": false,
     "start_time": "2022-12-07T16:21:50.959105",
     "status": "completed"
    },
    "tags": []
   },
   "outputs": [
    {
     "data": {
      "text/html": [
       "<div>\n",
       "<style scoped>\n",
       "    .dataframe tbody tr th:only-of-type {\n",
       "        vertical-align: middle;\n",
       "    }\n",
       "\n",
       "    .dataframe tbody tr th {\n",
       "        vertical-align: top;\n",
       "    }\n",
       "\n",
       "    .dataframe thead th {\n",
       "        text-align: right;\n",
       "    }\n",
       "</style>\n",
       "<table border=\"1\" class=\"dataframe\">\n",
       "  <thead>\n",
       "    <tr style=\"text-align: right;\">\n",
       "      <th></th>\n",
       "      <th></th>\n",
       "      <th>Tuition and fees</th>\n",
       "      <th>In-state</th>\n",
       "      <th>Undergrad Enrollment</th>\n",
       "    </tr>\n",
       "    <tr>\n",
       "      <th>State</th>\n",
       "      <th>Region</th>\n",
       "      <th></th>\n",
       "      <th></th>\n",
       "      <th></th>\n",
       "    </tr>\n",
       "  </thead>\n",
       "  <tbody>\n",
       "    <tr>\n",
       "      <th>VT</th>\n",
       "      <th>Northeast</th>\n",
       "      <td>40364.00</td>\n",
       "      <td>17300.00</td>\n",
       "      <td>10973.00</td>\n",
       "    </tr>\n",
       "    <tr>\n",
       "      <th>CT</th>\n",
       "      <th>Northeast</th>\n",
       "      <td>35858.00</td>\n",
       "      <td>14066.00</td>\n",
       "      <td>18826.00</td>\n",
       "    </tr>\n",
       "    <tr>\n",
       "      <th>CA</th>\n",
       "      <th>West</th>\n",
       "      <td>34623.58</td>\n",
       "      <td>12008.58</td>\n",
       "      <td>23571.17</td>\n",
       "    </tr>\n",
       "    <tr>\n",
       "      <th>VA</th>\n",
       "      <th>South</th>\n",
       "      <td>34562.17</td>\n",
       "      <td>13614.17</td>\n",
       "      <td>19272.50</td>\n",
       "    </tr>\n",
       "    <tr>\n",
       "      <th>HI</th>\n",
       "      <th>West</th>\n",
       "      <td>33764.00</td>\n",
       "      <td>11732.00</td>\n",
       "      <td>13689.00</td>\n",
       "    </tr>\n",
       "  </tbody>\n",
       "</table>\n",
       "</div>"
      ],
      "text/plain": [
       "                 Tuition and fees  In-state  Undergrad Enrollment\n",
       "State Region                                                     \n",
       "VT    Northeast          40364.00  17300.00              10973.00\n",
       "CT    Northeast          35858.00  14066.00              18826.00\n",
       "CA    West               34623.58  12008.58              23571.17\n",
       "VA    South              34562.17  13614.17              19272.50\n",
       "HI    West               33764.00  11732.00              13689.00"
      ]
     },
     "execution_count": 23,
     "metadata": {},
     "output_type": "execute_result"
    }
   ],
   "source": [
    "#Average tuition and enrollment by state for schools with with in-state information\n",
    "#Sort by in-state\n",
    "#Print out top 5 schools with highest average in-state\n",
    "uni_by_instate = uni_instate_over0.groupby(['State','Region'])[cols_to_clean].mean().round(2)\n",
    "uni_by_instate.sort_values('Tuition and fees', ascending = False, inplace = True)\n",
    "uni_by_instate[:5]"
   ]
  },
  {
   "cell_type": "code",
   "execution_count": 24,
   "id": "a88ce92c",
   "metadata": {
    "execution": {
     "iopub.execute_input": "2022-12-07T16:21:51.008661Z",
     "iopub.status.busy": "2022-12-07T16:21:51.008230Z",
     "iopub.status.idle": "2022-12-07T16:21:51.762697Z",
     "shell.execute_reply": "2022-12-07T16:21:51.761589Z"
    },
    "papermill": {
     "duration": 0.766389,
     "end_time": "2022-12-07T16:21:51.764598",
     "exception": false,
     "start_time": "2022-12-07T16:21:50.998209",
     "status": "completed"
    },
    "tags": []
   },
   "outputs": [
    {
     "data": {
      "text/plain": [
       "Text(0.5, 1.0, 'Total Tuition and Fees by Enrollment Numbers and Region')"
      ]
     },
     "execution_count": 24,
     "metadata": {},
     "output_type": "execute_result"
    },
    {
     "data": {
      "image/png": "[encoded data removed]",
      "text/plain": [
       "<Figure size 640x480 with 1 Axes>"
      ]
     },
     "metadata": {},
     "output_type": "display_data"
    },
    {
     "data": {
      "image/png": "[encoded data removed]",
      "text/plain": [
       "<Figure size 500x500 with 1 Axes>"
      ]
     },
     "metadata": {},
     "output_type": "display_data"
    }
   ],
   "source": [
    "#Plot enrollment numbers and tuition feed, color by region for all schools\n",
    "#Do we see any patterns in the tuition and fees for certain regions?\n",
    "sns.scatterplot(data = uni_by_state_all, x = 'Undergrad Enrollment', y='Tuition and fees',\n",
    "               hue = 'Region')\n",
    "plt.title('Total Tuition and Fees by Enrollment Numbers and Region')\n",
    "sns.lmplot(data = uni_by_state_all, x = 'Undergrad Enrollment', y='Tuition and fees')\n",
    "plt.title('Total Tuition and Fees by Enrollment Numbers and Region')"
   ]
  },
  {
   "cell_type": "code",
   "execution_count": 22,
   "id": "ceaadb3f",
   "metadata": {
    "execution": {
     "iopub.execute_input": "2022-12-07T16:21:51.784055Z",
     "iopub.status.busy": "2022-12-07T16:21:51.783193Z",
     "iopub.status.idle": "2022-12-07T16:21:52.466147Z",
     "shell.execute_reply": "2022-12-07T16:21:52.465304Z"
    },
    "papermill": {
     "duration": 0.694361,
     "end_time": "2022-12-07T16:21:52.467918",
     "exception": false,
     "start_time": "2022-12-07T16:21:51.773557",
     "status": "completed"
    },
    "tags": []
   },
   "outputs": [
    {
     "data": {
      "text/plain": [
       "Text(0.5, 1.0, 'In-state tuition by Enrollment Numbers and Region')"
      ]
     },
     "execution_count": 22,
     "metadata": {},
     "output_type": "execute_result"
    },
    {
     "data": {
      "image/png": "[encoded data removed]",
      "text/plain": [
       "<Figure size 432x288 with 1 Axes>"
      ]
     },
     "metadata": {},
     "output_type": "display_data"
    },
    {
     "data": {
      "image/png": "[encoded data removed]",
      "text/plain": [
       "<Figure size 360x360 with 1 Axes>"
      ]
     },
     "metadata": {},
     "output_type": "display_data"
    }
   ],
   "source": [
    "#Plot enrollment numbers and tuition feed, color by region for only schools with in-state information\n",
    "#Do we see any patterns in the tuition and fees for certain regions?\n",
    "sns.scatterplot(data = uni_by_instate, x = 'Undergrad Enrollment', y='In-state',\n",
    "               hue = 'Region')\n",
    "plt.title('Total In-state tuition by Enrollment Numbers and Region')\n",
    "sns.lmplot(data = uni_by_instate, x = 'Undergrad Enrollment', y='In-state')\n",
    "plt.title('In-state tuition by Enrollment Numbers and Region')"
   ]
  },
  {
   "cell_type": "code",
   "execution_count": 29,
   "id": "73d975c2",
   "metadata": {
    "execution": {
     "iopub.execute_input": "2022-12-07T16:21:52.488970Z",
     "iopub.status.busy": "2022-12-07T16:21:52.488102Z",
     "iopub.status.idle": "2022-12-07T16:21:52.501422Z",
     "shell.execute_reply": "2022-12-07T16:21:52.500418Z"
    },
    "papermill": {
     "duration": 0.026066,
     "end_time": "2022-12-07T16:21:52.503622",
     "exception": false,
     "start_time": "2022-12-07T16:21:52.477556",
     "status": "completed"
    },
    "tags": []
   },
   "outputs": [
    {
     "data": {
      "text/plain": [
       "Undergrad Enrollment    1.000000\n",
       "In-state                0.269957\n",
       "Tuition and fees       -0.260615\n",
       "Name: Undergrad Enrollment, dtype: float64"
      ]
     },
     "execution_count": 29,
     "metadata": {},
     "output_type": "execute_result"
    }
   ],
   "source": [
    "#Is there a correlation between enrollment body and tuition?\n",
    "uni_by_state_all.corr()['Undergrad Enrollment'].sort_values(ascending = False)"
   ]
  },
  {
   "cell_type": "code",
   "execution_count": 27,
   "id": "163a6d7f",
   "metadata": {},
   "outputs": [
    {
     "data": {
      "text/plain": [
       "<AxesSubplot: xlabel='Tuition and fees', ylabel='Count'>"
      ]
     },
     "execution_count": 27,
     "metadata": {},
     "output_type": "execute_result"
    },
    {
     "data": {
      "image/png": "[encoded data removed]",
      "text/plain": [
       "<Figure size 640x480 with 1 Axes>"
      ]
     },
     "metadata": {},
     "output_type": "display_data"
    }
   ],
   "source": [
    "#distribution of tuition and fees\n",
    "sns.histplot(data = uni_by_state_all, x='Tuition and fees')"
   ]
  },
  {
   "cell_type": "code",
   "execution_count": null,
   "id": "a69e8846",
   "metadata": {},
   "outputs": [],
   "source": []
  }
 ],
 "metadata": {
  "kernelspec": {
   "display_name": ".venv",
   "language": "python",
   "name": "python3"
  },
  "language_info": {
   "codemirror_mode": {
    "name": "ipython",
    "version": 3
   },
   "file_extension": ".py",
   "mimetype": "text/x-python",
   "name": "python",
   "nbconvert_exporter": "python",
   "pygments_lexer": "ipython3",
   "version": "3.10.9"
  },
  "papermill": {
   "default_parameters": {},
   "duration": 10.762636,
   "end_time": "2022-12-07T16:21:53.236421",
   "environment_variables": {},
   "exception": null,
   "input_path": "__notebook__.ipynb",
   "output_path": "__notebook__.ipynb",
   "parameters": {},
   "start_time": "2022-12-07T16:21:42.473785",
   "version": "2.3.4"
  },
  "vscode": {
   "interpreter": {
    "hash": "6521f70edc692e050c9d4128028b4a98742f75e6400152ed5f631f8daba52f3a"
   }
  }
 },
 "nbformat": 4,
 "nbformat_minor": 5
}
