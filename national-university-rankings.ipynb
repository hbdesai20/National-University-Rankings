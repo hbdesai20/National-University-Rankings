{
 "cells": [
  {
   "cell_type": "markdown",
   "id": "86d865ef",
   "metadata": {
    "papermill": {
     "duration": 0.008079,
     "end_time": "2022-12-07T15:33:22.231792",
     "exception": false,
     "start_time": "2022-12-07T15:33:22.223713",
     "status": "completed"
    },
    "tags": []
   },
   "source": [
    "**Anayzing National University Rankings**\n",
    "This notebook analyzes the tuition and enrollment information available for ~230 school. Our goal is to see if there are any patterns between the number of students enrolled and the tuition of the school. For example, is it more costly to attend a school with a lower student body relative to others. We also take a look at the regions that these schools are located to see if there is a correlation between region and cost."
   ]
  },
  {
   "cell_type": "code",
   "execution_count": 1,
   "id": "9803d430",
   "metadata": {
    "_cell_guid": "b1076dfc-b9ad-4769-8c92-a6c4dae69d19",
    "_uuid": "8f2839f25d086af736a60e9eeb907d3b93b6e0e5",
    "execution": {
     "iopub.execute_input": "2022-12-07T15:33:22.247631Z",
     "iopub.status.busy": "2022-12-07T15:33:22.247188Z",
     "iopub.status.idle": "2022-12-07T15:33:22.269262Z",
     "shell.execute_reply": "2022-12-07T15:33:22.268170Z"
    },
    "papermill": {
     "duration": 0.033559,
     "end_time": "2022-12-07T15:33:22.272051",
     "exception": false,
     "start_time": "2022-12-07T15:33:22.238492",
     "status": "completed"
    },
    "tags": []
   },
   "outputs": [
    {
     "name": "stdout",
     "output_type": "stream",
     "text": [
      "/kaggle/input/national-universities-rankings-explore-quality-t/National Universities Rankings.csv\n"
     ]
    }
   ],
   "source": [
    "# This Python 3 environment comes with many helpful analytics libraries installed\n",
    "# It is defined by the kaggle/python Docker image: https://github.com/kaggle/docker-python\n",
    "# For example, here's several helpful packages to load\n",
    "\n",
    "import numpy as np # linear algebra\n",
    "import pandas as pd # data processing, CSV file I/O (e.g. pd.read_csv)\n",
    "\n",
    "# Input data files are available in the read-only \"../input/\" directory\n",
    "# For example, running this (by clicking run or pressing Shift+Enter) will list all files under the input directory\n",
    "\n",
    "import os\n",
    "for dirname, _, filenames in os.walk('/kaggle/input'):\n",
    "    for filename in filenames:\n",
    "        print(os.path.join(dirname, filename))\n",
    "\n",
    "# You can write up to 20GB to the current directory (/kaggle/working/) that gets preserved as output when you create a version using \"Save & Run All\" \n",
    "# You can also write temporary files to /kaggle/temp/, but they won't be saved outside of the current session"
   ]
  },
  {
   "cell_type": "code",
   "execution_count": 2,
   "id": "294ffc54",
   "metadata": {
    "execution": {
     "iopub.execute_input": "2022-12-07T15:33:22.286714Z",
     "iopub.status.busy": "2022-12-07T15:33:22.286299Z",
     "iopub.status.idle": "2022-12-07T15:33:23.546065Z",
     "shell.execute_reply": "2022-12-07T15:33:23.545023Z"
    },
    "papermill": {
     "duration": 1.270098,
     "end_time": "2022-12-07T15:33:23.548566",
     "exception": false,
     "start_time": "2022-12-07T15:33:22.278468",
     "status": "completed"
    },
    "tags": []
   },
   "outputs": [],
   "source": [
    "import seaborn as sns\n",
    "sns.set_style('darkgrid')\n",
    "from matplotlib import pyplot as plt\n",
    "import warnings\n",
    "warnings.filterwarnings('ignore') # setting ignore as a parameter\n"
   ]
  },
  {
   "cell_type": "code",
   "execution_count": 3,
   "id": "feb76069",
   "metadata": {
    "execution": {
     "iopub.execute_input": "2022-12-07T15:33:23.563273Z",
     "iopub.status.busy": "2022-12-07T15:33:23.562267Z",
     "iopub.status.idle": "2022-12-07T15:33:23.612372Z",
     "shell.execute_reply": "2022-12-07T15:33:23.611302Z"
    },
    "papermill": {
     "duration": 0.06042,
     "end_time": "2022-12-07T15:33:23.615194",
     "exception": false,
     "start_time": "2022-12-07T15:33:23.554774",
     "status": "completed"
    },
    "tags": []
   },
   "outputs": [
    {
     "data": {
      "text/html": [
       "<div>\n",
       "<style scoped>\n",
       "    .dataframe tbody tr th:only-of-type {\n",
       "        vertical-align: middle;\n",
       "    }\n",
       "\n",
       "    .dataframe tbody tr th {\n",
       "        vertical-align: top;\n",
       "    }\n",
       "\n",
       "    .dataframe thead th {\n",
       "        text-align: right;\n",
       "    }\n",
       "</style>\n",
       "<table border=\"1\" class=\"dataframe\">\n",
       "  <thead>\n",
       "    <tr style=\"text-align: right;\">\n",
       "      <th></th>\n",
       "      <th>index</th>\n",
       "      <th>Name</th>\n",
       "      <th>Location</th>\n",
       "      <th>Rank</th>\n",
       "      <th>Description</th>\n",
       "      <th>Tuition and fees</th>\n",
       "      <th>In-state</th>\n",
       "      <th>Undergrad Enrollment</th>\n",
       "    </tr>\n",
       "  </thead>\n",
       "  <tbody>\n",
       "    <tr>\n",
       "      <th>0</th>\n",
       "      <td>0</td>\n",
       "      <td>Princeton University</td>\n",
       "      <td>Princeton, NJ</td>\n",
       "      <td>1</td>\n",
       "      <td>Princeton, the fourth-oldest college in the Un...</td>\n",
       "      <td>$45,320</td>\n",
       "      <td>NaN</td>\n",
       "      <td>5,402</td>\n",
       "    </tr>\n",
       "    <tr>\n",
       "      <th>1</th>\n",
       "      <td>1</td>\n",
       "      <td>Harvard University</td>\n",
       "      <td>Cambridge, MA</td>\n",
       "      <td>2</td>\n",
       "      <td>Harvard is located in Cambridge, Massachusetts...</td>\n",
       "      <td>$47,074</td>\n",
       "      <td>NaN</td>\n",
       "      <td>6,699</td>\n",
       "    </tr>\n",
       "    <tr>\n",
       "      <th>2</th>\n",
       "      <td>2</td>\n",
       "      <td>University of Chicago</td>\n",
       "      <td>Chicago, IL</td>\n",
       "      <td>3</td>\n",
       "      <td>The University of Chicago, situated in Chicago...</td>\n",
       "      <td>$52,491</td>\n",
       "      <td>NaN</td>\n",
       "      <td>5,844</td>\n",
       "    </tr>\n",
       "    <tr>\n",
       "      <th>3</th>\n",
       "      <td>3</td>\n",
       "      <td>Yale University</td>\n",
       "      <td>New Haven, CT</td>\n",
       "      <td>3</td>\n",
       "      <td>Yale University, located in New Haven, Connect...</td>\n",
       "      <td>$49,480</td>\n",
       "      <td>NaN</td>\n",
       "      <td>5,532</td>\n",
       "    </tr>\n",
       "    <tr>\n",
       "      <th>4</th>\n",
       "      <td>4</td>\n",
       "      <td>Columbia University</td>\n",
       "      <td>New York, NY</td>\n",
       "      <td>5</td>\n",
       "      <td>Columbia University, located in Manhattan's Mo...</td>\n",
       "      <td>$55,056</td>\n",
       "      <td>NaN</td>\n",
       "      <td>6,102</td>\n",
       "    </tr>\n",
       "  </tbody>\n",
       "</table>\n",
       "</div>"
      ],
      "text/plain": [
       "   index                   Name       Location  Rank  \\\n",
       "0      0   Princeton University  Princeton, NJ     1   \n",
       "1      1     Harvard University  Cambridge, MA     2   \n",
       "2      2  University of Chicago    Chicago, IL     3   \n",
       "3      3        Yale University  New Haven, CT     3   \n",
       "4      4    Columbia University   New York, NY     5   \n",
       "\n",
       "                                         Description Tuition and fees  \\\n",
       "0  Princeton, the fourth-oldest college in the Un...         $45,320    \n",
       "1  Harvard is located in Cambridge, Massachusetts...         $47,074    \n",
       "2  The University of Chicago, situated in Chicago...         $52,491    \n",
       "3  Yale University, located in New Haven, Connect...         $49,480    \n",
       "4  Columbia University, located in Manhattan's Mo...         $55,056    \n",
       "\n",
       "  In-state Undergrad Enrollment  \n",
       "0      NaN                5,402  \n",
       "1      NaN                6,699  \n",
       "2      NaN                5,844  \n",
       "3      NaN                5,532  \n",
       "4      NaN                6,102  "
      ]
     },
     "execution_count": 3,
     "metadata": {},
     "output_type": "execute_result"
    }
   ],
   "source": [
    "#Create df of university csv\n",
    "#Print out first 5 rows\n",
    "\n",
    "uni_ranks = pd.read_csv('/kaggle/input/national-universities-rankings-explore-quality-t/National Universities Rankings.csv')\n",
    "uni_ranks.head()"
   ]
  },
  {
   "cell_type": "code",
   "execution_count": 4,
   "id": "356d3c36",
   "metadata": {
    "execution": {
     "iopub.execute_input": "2022-12-07T15:33:23.629904Z",
     "iopub.status.busy": "2022-12-07T15:33:23.629487Z",
     "iopub.status.idle": "2022-12-07T15:33:23.667689Z",
     "shell.execute_reply": "2022-12-07T15:33:23.666483Z"
    },
    "papermill": {
     "duration": 0.049235,
     "end_time": "2022-12-07T15:33:23.670905",
     "exception": false,
     "start_time": "2022-12-07T15:33:23.621670",
     "status": "completed"
    },
    "tags": []
   },
   "outputs": [
    {
     "data": {
      "text/html": [
       "<div>\n",
       "<style scoped>\n",
       "    .dataframe tbody tr th:only-of-type {\n",
       "        vertical-align: middle;\n",
       "    }\n",
       "\n",
       "    .dataframe tbody tr th {\n",
       "        vertical-align: top;\n",
       "    }\n",
       "\n",
       "    .dataframe thead th {\n",
       "        text-align: right;\n",
       "    }\n",
       "</style>\n",
       "<table border=\"1\" class=\"dataframe\">\n",
       "  <thead>\n",
       "    <tr style=\"text-align: right;\">\n",
       "      <th></th>\n",
       "      <th>index</th>\n",
       "      <th>Name</th>\n",
       "      <th>Location</th>\n",
       "      <th>Rank</th>\n",
       "      <th>Description</th>\n",
       "      <th>Tuition and fees</th>\n",
       "      <th>In-state</th>\n",
       "      <th>Undergrad Enrollment</th>\n",
       "      <th>City</th>\n",
       "      <th>State</th>\n",
       "    </tr>\n",
       "  </thead>\n",
       "  <tbody>\n",
       "    <tr>\n",
       "      <th>0</th>\n",
       "      <td>0</td>\n",
       "      <td>Princeton University</td>\n",
       "      <td>Princeton, NJ</td>\n",
       "      <td>1</td>\n",
       "      <td>Princeton, the fourth-oldest college in the Un...</td>\n",
       "      <td>45320</td>\n",
       "      <td>NaN</td>\n",
       "      <td>5402</td>\n",
       "      <td>Princeton</td>\n",
       "      <td>NJ</td>\n",
       "    </tr>\n",
       "    <tr>\n",
       "      <th>1</th>\n",
       "      <td>1</td>\n",
       "      <td>Harvard University</td>\n",
       "      <td>Cambridge, MA</td>\n",
       "      <td>2</td>\n",
       "      <td>Harvard is located in Cambridge, Massachusetts...</td>\n",
       "      <td>47074</td>\n",
       "      <td>NaN</td>\n",
       "      <td>6699</td>\n",
       "      <td>Cambridge</td>\n",
       "      <td>MA</td>\n",
       "    </tr>\n",
       "    <tr>\n",
       "      <th>2</th>\n",
       "      <td>2</td>\n",
       "      <td>University of Chicago</td>\n",
       "      <td>Chicago, IL</td>\n",
       "      <td>3</td>\n",
       "      <td>The University of Chicago, situated in Chicago...</td>\n",
       "      <td>52491</td>\n",
       "      <td>NaN</td>\n",
       "      <td>5844</td>\n",
       "      <td>Chicago</td>\n",
       "      <td>IL</td>\n",
       "    </tr>\n",
       "  </tbody>\n",
       "</table>\n",
       "</div>"
      ],
      "text/plain": [
       "   index                   Name       Location  Rank  \\\n",
       "0      0   Princeton University  Princeton, NJ     1   \n",
       "1      1     Harvard University  Cambridge, MA     2   \n",
       "2      2  University of Chicago    Chicago, IL     3   \n",
       "\n",
       "                                         Description Tuition and fees  \\\n",
       "0  Princeton, the fourth-oldest college in the Un...           45320    \n",
       "1  Harvard is located in Cambridge, Massachusetts...           47074    \n",
       "2  The University of Chicago, situated in Chicago...           52491    \n",
       "\n",
       "  In-state Undergrad Enrollment       City State  \n",
       "0      NaN                 5402  Princeton    NJ  \n",
       "1      NaN                 6699  Cambridge    MA  \n",
       "2      NaN                 5844    Chicago    IL  "
      ]
     },
     "execution_count": 4,
     "metadata": {},
     "output_type": "execute_result"
    }
   ],
   "source": [
    "#Remove $ and ',' from tuition, in-state, and enrollment columns\n",
    "#Split out location into city and state\n",
    "cols_to_clean = ['Tuition and fees', 'In-state', 'Undergrad Enrollment']\n",
    "uni_ranks[cols_to_clean] = uni_ranks[cols_to_clean].apply(lambda x: x.str.replace('$',''))\n",
    "uni_ranks[cols_to_clean] = uni_ranks[cols_to_clean].apply(lambda x: x.str.replace(',',''))\n",
    "uni_ranks[['City','State']]= uni_ranks['Location'].str.split(',', expand = True)\n",
    "uni_ranks.iloc[:3]"
   ]
  },
  {
   "cell_type": "code",
   "execution_count": 5,
   "id": "41eba16a",
   "metadata": {
    "execution": {
     "iopub.execute_input": "2022-12-07T15:33:23.686257Z",
     "iopub.status.busy": "2022-12-07T15:33:23.685825Z",
     "iopub.status.idle": "2022-12-07T15:33:23.699863Z",
     "shell.execute_reply": "2022-12-07T15:33:23.698859Z"
    },
    "papermill": {
     "duration": 0.024613,
     "end_time": "2022-12-07T15:33:23.702490",
     "exception": false,
     "start_time": "2022-12-07T15:33:23.677877",
     "status": "completed"
    },
    "tags": []
   },
   "outputs": [
    {
     "data": {
      "text/html": [
       "<div>\n",
       "<style scoped>\n",
       "    .dataframe tbody tr th:only-of-type {\n",
       "        vertical-align: middle;\n",
       "    }\n",
       "\n",
       "    .dataframe tbody tr th {\n",
       "        vertical-align: top;\n",
       "    }\n",
       "\n",
       "    .dataframe thead th {\n",
       "        text-align: right;\n",
       "    }\n",
       "</style>\n",
       "<table border=\"1\" class=\"dataframe\">\n",
       "  <thead>\n",
       "    <tr style=\"text-align: right;\">\n",
       "      <th></th>\n",
       "      <th>index</th>\n",
       "      <th>Name</th>\n",
       "      <th>Location</th>\n",
       "      <th>Rank</th>\n",
       "      <th>Description</th>\n",
       "      <th>Tuition and fees</th>\n",
       "      <th>In-state</th>\n",
       "      <th>Undergrad Enrollment</th>\n",
       "      <th>City</th>\n",
       "      <th>State</th>\n",
       "    </tr>\n",
       "  </thead>\n",
       "  <tbody>\n",
       "  </tbody>\n",
       "</table>\n",
       "</div>"
      ],
      "text/plain": [
       "Empty DataFrame\n",
       "Columns: [index, Name, Location, Rank, Description, Tuition and fees, In-state, Undergrad Enrollment, City, State]\n",
       "Index: []"
      ]
     },
     "execution_count": 5,
     "metadata": {},
     "output_type": "execute_result"
    }
   ],
   "source": [
    "#Filter out for only NJ states as a test\n",
    "uni_test = uni_ranks[uni_ranks['State']== 'NJ']\n",
    "uni_test.head()"
   ]
  },
  {
   "cell_type": "code",
   "execution_count": 6,
   "id": "34339093",
   "metadata": {
    "execution": {
     "iopub.execute_input": "2022-12-07T15:33:23.718361Z",
     "iopub.status.busy": "2022-12-07T15:33:23.717494Z",
     "iopub.status.idle": "2022-12-07T15:33:23.729589Z",
     "shell.execute_reply": "2022-12-07T15:33:23.728238Z"
    },
    "papermill": {
     "duration": 0.022939,
     "end_time": "2022-12-07T15:33:23.732246",
     "exception": false,
     "start_time": "2022-12-07T15:33:23.709307",
     "status": "completed"
    },
    "tags": []
   },
   "outputs": [],
   "source": [
    "#Remove any whitespace that may cause error in object dtypes\n",
    "#test filter shows no returns for filtering for strings\n",
    "cols_to_strip = ['Name', 'Description','City','State']\n",
    "uni_ranks[cols_to_strip] = uni_ranks[cols_to_strip].apply(lambda x: x.str.strip())"
   ]
  },
  {
   "cell_type": "code",
   "execution_count": 7,
   "id": "922d5063",
   "metadata": {
    "execution": {
     "iopub.execute_input": "2022-12-07T15:33:23.747973Z",
     "iopub.status.busy": "2022-12-07T15:33:23.747232Z",
     "iopub.status.idle": "2022-12-07T15:33:23.763630Z",
     "shell.execute_reply": "2022-12-07T15:33:23.762733Z"
    },
    "papermill": {
     "duration": 0.026976,
     "end_time": "2022-12-07T15:33:23.766102",
     "exception": false,
     "start_time": "2022-12-07T15:33:23.739126",
     "status": "completed"
    },
    "tags": []
   },
   "outputs": [
    {
     "data": {
      "text/html": [
       "<div>\n",
       "<style scoped>\n",
       "    .dataframe tbody tr th:only-of-type {\n",
       "        vertical-align: middle;\n",
       "    }\n",
       "\n",
       "    .dataframe tbody tr th {\n",
       "        vertical-align: top;\n",
       "    }\n",
       "\n",
       "    .dataframe thead th {\n",
       "        text-align: right;\n",
       "    }\n",
       "</style>\n",
       "<table border=\"1\" class=\"dataframe\">\n",
       "  <thead>\n",
       "    <tr style=\"text-align: right;\">\n",
       "      <th></th>\n",
       "      <th>index</th>\n",
       "      <th>Name</th>\n",
       "      <th>Location</th>\n",
       "      <th>Rank</th>\n",
       "      <th>Description</th>\n",
       "      <th>Tuition and fees</th>\n",
       "      <th>In-state</th>\n",
       "      <th>Undergrad Enrollment</th>\n",
       "      <th>City</th>\n",
       "      <th>State</th>\n",
       "    </tr>\n",
       "  </thead>\n",
       "  <tbody>\n",
       "    <tr>\n",
       "      <th>0</th>\n",
       "      <td>0</td>\n",
       "      <td>Princeton University</td>\n",
       "      <td>Princeton, NJ</td>\n",
       "      <td>1</td>\n",
       "      <td>Princeton, the fourth-oldest college in the Un...</td>\n",
       "      <td>45320</td>\n",
       "      <td>NaN</td>\n",
       "      <td>5402</td>\n",
       "      <td>Princeton</td>\n",
       "      <td>NJ</td>\n",
       "    </tr>\n",
       "    <tr>\n",
       "      <th>69</th>\n",
       "      <td>69</td>\n",
       "      <td>Rutgers University--New Brunswick</td>\n",
       "      <td>Piscataway, NJ</td>\n",
       "      <td>70</td>\n",
       "      <td>For high school students who can't decide what...</td>\n",
       "      <td>30023</td>\n",
       "      <td>14372</td>\n",
       "      <td>35484</td>\n",
       "      <td>Piscataway</td>\n",
       "      <td>NJ</td>\n",
       "    </tr>\n",
       "    <tr>\n",
       "      <th>71</th>\n",
       "      <td>71</td>\n",
       "      <td>Stevens Institute of Technology</td>\n",
       "      <td>Hoboken, NJ</td>\n",
       "      <td>71</td>\n",
       "      <td>Innovation and entrepreneurship is stressed at...</td>\n",
       "      <td>48838</td>\n",
       "      <td>NaN</td>\n",
       "      <td>2873</td>\n",
       "      <td>Hoboken</td>\n",
       "      <td>NJ</td>\n",
       "    </tr>\n",
       "    <tr>\n",
       "      <th>118</th>\n",
       "      <td>118</td>\n",
       "      <td>Seton Hall University</td>\n",
       "      <td>South Orange, NJ</td>\n",
       "      <td>118</td>\n",
       "      <td>Seton Hall University is a private, Catholic s...</td>\n",
       "      <td>39258</td>\n",
       "      <td>NaN</td>\n",
       "      <td>6090</td>\n",
       "      <td>South Orange</td>\n",
       "      <td>NJ</td>\n",
       "    </tr>\n",
       "    <tr>\n",
       "      <th>137</th>\n",
       "      <td>137</td>\n",
       "      <td>New Jersey Institute of Technology</td>\n",
       "      <td>Newark, NJ</td>\n",
       "      <td>135</td>\n",
       "      <td>Founded in 1881, New Jersey Institute of Techn...</td>\n",
       "      <td>30326</td>\n",
       "      <td>16108</td>\n",
       "      <td>8008</td>\n",
       "      <td>Newark</td>\n",
       "      <td>NJ</td>\n",
       "    </tr>\n",
       "  </tbody>\n",
       "</table>\n",
       "</div>"
      ],
      "text/plain": [
       "     index                                Name          Location  Rank  \\\n",
       "0        0                Princeton University     Princeton, NJ     1   \n",
       "69      69   Rutgers University--New Brunswick    Piscataway, NJ    70   \n",
       "71      71     Stevens Institute of Technology       Hoboken, NJ    71   \n",
       "118    118               Seton Hall University  South Orange, NJ   118   \n",
       "137    137  New Jersey Institute of Technology        Newark, NJ   135   \n",
       "\n",
       "                                           Description Tuition and fees  \\\n",
       "0    Princeton, the fourth-oldest college in the Un...           45320    \n",
       "69   For high school students who can't decide what...           30023    \n",
       "71   Innovation and entrepreneurship is stressed at...           48838    \n",
       "118  Seton Hall University is a private, Catholic s...           39258    \n",
       "137  Founded in 1881, New Jersey Institute of Techn...           30326    \n",
       "\n",
       "    In-state Undergrad Enrollment          City State  \n",
       "0        NaN                 5402     Princeton    NJ  \n",
       "69    14372                 35484    Piscataway    NJ  \n",
       "71       NaN                 2873       Hoboken    NJ  \n",
       "118      NaN                 6090  South Orange    NJ  \n",
       "137   16108                  8008        Newark    NJ  "
      ]
     },
     "execution_count": 7,
     "metadata": {},
     "output_type": "execute_result"
    }
   ],
   "source": [
    "#Test NJ filter to see if values are returned\n",
    "uni_strip_test = uni_ranks[uni_ranks['State']== 'NJ']\n",
    "uni_strip_test.head()"
   ]
  },
  {
   "cell_type": "code",
   "execution_count": 8,
   "id": "876cccf3",
   "metadata": {
    "execution": {
     "iopub.execute_input": "2022-12-07T15:33:23.783562Z",
     "iopub.status.busy": "2022-12-07T15:33:23.783141Z",
     "iopub.status.idle": "2022-12-07T15:33:23.790561Z",
     "shell.execute_reply": "2022-12-07T15:33:23.789265Z"
    },
    "papermill": {
     "duration": 0.018097,
     "end_time": "2022-12-07T15:33:23.792968",
     "exception": false,
     "start_time": "2022-12-07T15:33:23.774871",
     "status": "completed"
    },
    "tags": []
   },
   "outputs": [],
   "source": [
    "#Create lists for individual regions to categorize states into their respective regions\n",
    "Northeast = ['CT','DE','ME', 'MD',\n",
    "            'MA','NH','NJ','NY',\n",
    "            'PA','RI','VT', 'DC']\n",
    "South = ['AL', 'AR', 'TX', 'OK',\n",
    "        'FL','GA','KY','LA','MS',\n",
    "        'NC','OK','SC','TN', 'VA',\n",
    "        'WV']\n",
    "Midwest = ['IL','IN','IA','KS',\n",
    "          'MI','MN','MO','NE',\n",
    "          'ND','OH','SD','WI']\n",
    "West = ['AK', 'AZ', 'NM', 'CA',\n",
    "       'CO','HI','ID','MT','NV',\n",
    "       'OR','UT', 'WA', 'WY']"
   ]
  },
  {
   "cell_type": "code",
   "execution_count": 9,
   "id": "69c57ac2",
   "metadata": {
    "execution": {
     "iopub.execute_input": "2022-12-07T15:33:23.810128Z",
     "iopub.status.busy": "2022-12-07T15:33:23.808691Z",
     "iopub.status.idle": "2022-12-07T15:33:23.815773Z",
     "shell.execute_reply": "2022-12-07T15:33:23.814538Z"
    },
    "papermill": {
     "duration": 0.018448,
     "end_time": "2022-12-07T15:33:23.818509",
     "exception": false,
     "start_time": "2022-12-07T15:33:23.800061",
     "status": "completed"
    },
    "tags": []
   },
   "outputs": [],
   "source": [
    "#Create dictionary from state lists into regions\n",
    "regions = {}\n",
    "for key in Northeast:\n",
    "    regions[key] = 'Northeast'\n",
    "for key in South:\n",
    "    regions[key] = 'South'\n",
    "for key in Midwest:\n",
    "    regions[key] = 'Midwest'\n",
    "for key in West:\n",
    "    regions[key] = 'West'"
   ]
  },
  {
   "cell_type": "code",
   "execution_count": 10,
   "id": "ef54142a",
   "metadata": {
    "execution": {
     "iopub.execute_input": "2022-12-07T15:33:23.834979Z",
     "iopub.status.busy": "2022-12-07T15:33:23.834529Z",
     "iopub.status.idle": "2022-12-07T15:33:23.853087Z",
     "shell.execute_reply": "2022-12-07T15:33:23.852052Z"
    },
    "papermill": {
     "duration": 0.029897,
     "end_time": "2022-12-07T15:33:23.855573",
     "exception": false,
     "start_time": "2022-12-07T15:33:23.825676",
     "status": "completed"
    },
    "tags": []
   },
   "outputs": [
    {
     "data": {
      "text/html": [
       "<div>\n",
       "<style scoped>\n",
       "    .dataframe tbody tr th:only-of-type {\n",
       "        vertical-align: middle;\n",
       "    }\n",
       "\n",
       "    .dataframe tbody tr th {\n",
       "        vertical-align: top;\n",
       "    }\n",
       "\n",
       "    .dataframe thead th {\n",
       "        text-align: right;\n",
       "    }\n",
       "</style>\n",
       "<table border=\"1\" class=\"dataframe\">\n",
       "  <thead>\n",
       "    <tr style=\"text-align: right;\">\n",
       "      <th></th>\n",
       "      <th>index</th>\n",
       "      <th>Name</th>\n",
       "      <th>Location</th>\n",
       "      <th>Rank</th>\n",
       "      <th>Description</th>\n",
       "      <th>Tuition and fees</th>\n",
       "      <th>In-state</th>\n",
       "      <th>Undergrad Enrollment</th>\n",
       "      <th>City</th>\n",
       "      <th>State</th>\n",
       "      <th>Region</th>\n",
       "    </tr>\n",
       "  </thead>\n",
       "  <tbody>\n",
       "    <tr>\n",
       "      <th>0</th>\n",
       "      <td>0</td>\n",
       "      <td>Princeton University</td>\n",
       "      <td>Princeton, NJ</td>\n",
       "      <td>1</td>\n",
       "      <td>Princeton, the fourth-oldest college in the Un...</td>\n",
       "      <td>45320</td>\n",
       "      <td>NaN</td>\n",
       "      <td>5402</td>\n",
       "      <td>Princeton</td>\n",
       "      <td>NJ</td>\n",
       "      <td>Northeast</td>\n",
       "    </tr>\n",
       "    <tr>\n",
       "      <th>1</th>\n",
       "      <td>1</td>\n",
       "      <td>Harvard University</td>\n",
       "      <td>Cambridge, MA</td>\n",
       "      <td>2</td>\n",
       "      <td>Harvard is located in Cambridge, Massachusetts...</td>\n",
       "      <td>47074</td>\n",
       "      <td>NaN</td>\n",
       "      <td>6699</td>\n",
       "      <td>Cambridge</td>\n",
       "      <td>MA</td>\n",
       "      <td>Northeast</td>\n",
       "    </tr>\n",
       "    <tr>\n",
       "      <th>2</th>\n",
       "      <td>2</td>\n",
       "      <td>University of Chicago</td>\n",
       "      <td>Chicago, IL</td>\n",
       "      <td>3</td>\n",
       "      <td>The University of Chicago, situated in Chicago...</td>\n",
       "      <td>52491</td>\n",
       "      <td>NaN</td>\n",
       "      <td>5844</td>\n",
       "      <td>Chicago</td>\n",
       "      <td>IL</td>\n",
       "      <td>Midwest</td>\n",
       "    </tr>\n",
       "    <tr>\n",
       "      <th>3</th>\n",
       "      <td>3</td>\n",
       "      <td>Yale University</td>\n",
       "      <td>New Haven, CT</td>\n",
       "      <td>3</td>\n",
       "      <td>Yale University, located in New Haven, Connect...</td>\n",
       "      <td>49480</td>\n",
       "      <td>NaN</td>\n",
       "      <td>5532</td>\n",
       "      <td>New Haven</td>\n",
       "      <td>CT</td>\n",
       "      <td>Northeast</td>\n",
       "    </tr>\n",
       "    <tr>\n",
       "      <th>4</th>\n",
       "      <td>4</td>\n",
       "      <td>Columbia University</td>\n",
       "      <td>New York, NY</td>\n",
       "      <td>5</td>\n",
       "      <td>Columbia University, located in Manhattan's Mo...</td>\n",
       "      <td>55056</td>\n",
       "      <td>NaN</td>\n",
       "      <td>6102</td>\n",
       "      <td>New York</td>\n",
       "      <td>NY</td>\n",
       "      <td>Northeast</td>\n",
       "    </tr>\n",
       "  </tbody>\n",
       "</table>\n",
       "</div>"
      ],
      "text/plain": [
       "   index                   Name       Location  Rank  \\\n",
       "0      0   Princeton University  Princeton, NJ     1   \n",
       "1      1     Harvard University  Cambridge, MA     2   \n",
       "2      2  University of Chicago    Chicago, IL     3   \n",
       "3      3        Yale University  New Haven, CT     3   \n",
       "4      4    Columbia University   New York, NY     5   \n",
       "\n",
       "                                         Description Tuition and fees  \\\n",
       "0  Princeton, the fourth-oldest college in the Un...           45320    \n",
       "1  Harvard is located in Cambridge, Massachusetts...           47074    \n",
       "2  The University of Chicago, situated in Chicago...           52491    \n",
       "3  Yale University, located in New Haven, Connect...           49480    \n",
       "4  Columbia University, located in Manhattan's Mo...           55056    \n",
       "\n",
       "  In-state Undergrad Enrollment       City State     Region  \n",
       "0      NaN                 5402  Princeton    NJ  Northeast  \n",
       "1      NaN                 6699  Cambridge    MA  Northeast  \n",
       "2      NaN                 5844    Chicago    IL    Midwest  \n",
       "3      NaN                 5532  New Haven    CT  Northeast  \n",
       "4      NaN                 6102   New York    NY  Northeast  "
      ]
     },
     "execution_count": 10,
     "metadata": {},
     "output_type": "execute_result"
    }
   ],
   "source": [
    "#Map regions to respective states in uni by state df\n",
    "uni_ranks['Region'] = uni_ranks['State'].map(regions)\n",
    "uni_ranks.head()"
   ]
  },
  {
   "cell_type": "code",
   "execution_count": 11,
   "id": "f6b59bc5",
   "metadata": {
    "execution": {
     "iopub.execute_input": "2022-12-07T15:33:23.874074Z",
     "iopub.status.busy": "2022-12-07T15:33:23.873533Z",
     "iopub.status.idle": "2022-12-07T15:33:23.896373Z",
     "shell.execute_reply": "2022-12-07T15:33:23.895084Z"
    },
    "papermill": {
     "duration": 0.035696,
     "end_time": "2022-12-07T15:33:23.899604",
     "exception": false,
     "start_time": "2022-12-07T15:33:23.863908",
     "status": "completed"
    },
    "tags": []
   },
   "outputs": [
    {
     "data": {
      "text/html": [
       "<div>\n",
       "<style scoped>\n",
       "    .dataframe tbody tr th:only-of-type {\n",
       "        vertical-align: middle;\n",
       "    }\n",
       "\n",
       "    .dataframe tbody tr th {\n",
       "        vertical-align: top;\n",
       "    }\n",
       "\n",
       "    .dataframe thead th {\n",
       "        text-align: right;\n",
       "    }\n",
       "</style>\n",
       "<table border=\"1\" class=\"dataframe\">\n",
       "  <thead>\n",
       "    <tr style=\"text-align: right;\">\n",
       "      <th></th>\n",
       "      <th>Name</th>\n",
       "      <th>City</th>\n",
       "      <th>State</th>\n",
       "      <th>Region</th>\n",
       "      <th>Tuition and fees</th>\n",
       "      <th>In-state</th>\n",
       "      <th>Undergrad Enrollment</th>\n",
       "      <th>Description</th>\n",
       "    </tr>\n",
       "    <tr>\n",
       "      <th>Rank</th>\n",
       "      <th></th>\n",
       "      <th></th>\n",
       "      <th></th>\n",
       "      <th></th>\n",
       "      <th></th>\n",
       "      <th></th>\n",
       "      <th></th>\n",
       "      <th></th>\n",
       "    </tr>\n",
       "  </thead>\n",
       "  <tbody>\n",
       "    <tr>\n",
       "      <th>1</th>\n",
       "      <td>Princeton University</td>\n",
       "      <td>Princeton</td>\n",
       "      <td>NJ</td>\n",
       "      <td>Northeast</td>\n",
       "      <td>45320</td>\n",
       "      <td>NaN</td>\n",
       "      <td>5402</td>\n",
       "      <td>Princeton, the fourth-oldest college in the Un...</td>\n",
       "    </tr>\n",
       "    <tr>\n",
       "      <th>2</th>\n",
       "      <td>Harvard University</td>\n",
       "      <td>Cambridge</td>\n",
       "      <td>MA</td>\n",
       "      <td>Northeast</td>\n",
       "      <td>47074</td>\n",
       "      <td>NaN</td>\n",
       "      <td>6699</td>\n",
       "      <td>Harvard is located in Cambridge, Massachusetts...</td>\n",
       "    </tr>\n",
       "    <tr>\n",
       "      <th>3</th>\n",
       "      <td>University of Chicago</td>\n",
       "      <td>Chicago</td>\n",
       "      <td>IL</td>\n",
       "      <td>Midwest</td>\n",
       "      <td>52491</td>\n",
       "      <td>NaN</td>\n",
       "      <td>5844</td>\n",
       "      <td>The University of Chicago, situated in Chicago...</td>\n",
       "    </tr>\n",
       "    <tr>\n",
       "      <th>3</th>\n",
       "      <td>Yale University</td>\n",
       "      <td>New Haven</td>\n",
       "      <td>CT</td>\n",
       "      <td>Northeast</td>\n",
       "      <td>49480</td>\n",
       "      <td>NaN</td>\n",
       "      <td>5532</td>\n",
       "      <td>Yale University, located in New Haven, Connect...</td>\n",
       "    </tr>\n",
       "    <tr>\n",
       "      <th>5</th>\n",
       "      <td>Columbia University</td>\n",
       "      <td>New York</td>\n",
       "      <td>NY</td>\n",
       "      <td>Northeast</td>\n",
       "      <td>55056</td>\n",
       "      <td>NaN</td>\n",
       "      <td>6102</td>\n",
       "      <td>Columbia University, located in Manhattan's Mo...</td>\n",
       "    </tr>\n",
       "    <tr>\n",
       "      <th>...</th>\n",
       "      <td>...</td>\n",
       "      <td>...</td>\n",
       "      <td>...</td>\n",
       "      <td>...</td>\n",
       "      <td>...</td>\n",
       "      <td>...</td>\n",
       "      <td>...</td>\n",
       "      <td>...</td>\n",
       "    </tr>\n",
       "    <tr>\n",
       "      <th>220</th>\n",
       "      <td>University of Massachusetts--Dartmouth</td>\n",
       "      <td>North Dartmouth</td>\n",
       "      <td>MA</td>\n",
       "      <td>Northeast</td>\n",
       "      <td>19270</td>\n",
       "      <td>12588</td>\n",
       "      <td>7295</td>\n",
       "      <td>Located about 60 miles south of Boston, the Un...</td>\n",
       "    </tr>\n",
       "    <tr>\n",
       "      <th>220</th>\n",
       "      <td>University of Missouri--St. Louis</td>\n",
       "      <td>St. Louis</td>\n",
       "      <td>MO</td>\n",
       "      <td>Midwest</td>\n",
       "      <td>26277</td>\n",
       "      <td>10065</td>\n",
       "      <td>13569</td>\n",
       "      <td>Undergraduates at University of Missouri--St. ...</td>\n",
       "    </tr>\n",
       "    <tr>\n",
       "      <th>220</th>\n",
       "      <td>University of North Carolina--Greensboro</td>\n",
       "      <td>Greensboro</td>\n",
       "      <td>NC</td>\n",
       "      <td>South</td>\n",
       "      <td>21595</td>\n",
       "      <td>6733</td>\n",
       "      <td>15951</td>\n",
       "      <td>University of North Carolina--Greensboro is lo...</td>\n",
       "    </tr>\n",
       "    <tr>\n",
       "      <th>220</th>\n",
       "      <td>University of Southern Mississippi</td>\n",
       "      <td>Hattiesburg</td>\n",
       "      <td>MS</td>\n",
       "      <td>South</td>\n",
       "      <td>16094</td>\n",
       "      <td>7224</td>\n",
       "      <td>11840</td>\n",
       "      <td>The University of Southern Mississippi has two...</td>\n",
       "    </tr>\n",
       "    <tr>\n",
       "      <th>220</th>\n",
       "      <td>Utah State University</td>\n",
       "      <td>Logan</td>\n",
       "      <td>UT</td>\n",
       "      <td>West</td>\n",
       "      <td>19772</td>\n",
       "      <td>6866</td>\n",
       "      <td>25259</td>\n",
       "      <td>Founded in 1888, Utah State University is a pu...</td>\n",
       "    </tr>\n",
       "  </tbody>\n",
       "</table>\n",
       "<p>231 rows × 8 columns</p>\n",
       "</div>"
      ],
      "text/plain": [
       "                                          Name             City State  \\\n",
       "Rank                                                                    \n",
       "1                         Princeton University        Princeton    NJ   \n",
       "2                           Harvard University        Cambridge    MA   \n",
       "3                        University of Chicago          Chicago    IL   \n",
       "3                              Yale University        New Haven    CT   \n",
       "5                          Columbia University         New York    NY   \n",
       "...                                        ...              ...   ...   \n",
       "220     University of Massachusetts--Dartmouth  North Dartmouth    MA   \n",
       "220          University of Missouri--St. Louis        St. Louis    MO   \n",
       "220   University of North Carolina--Greensboro       Greensboro    NC   \n",
       "220         University of Southern Mississippi      Hattiesburg    MS   \n",
       "220                      Utah State University            Logan    UT   \n",
       "\n",
       "         Region Tuition and fees In-state Undergrad Enrollment  \\\n",
       "Rank                                                             \n",
       "1     Northeast           45320       NaN                 5402   \n",
       "2     Northeast           47074       NaN                 6699   \n",
       "3       Midwest           52491       NaN                 5844   \n",
       "3     Northeast           49480       NaN                 5532   \n",
       "5     Northeast           55056       NaN                 6102   \n",
       "...         ...              ...      ...                  ...   \n",
       "220   Northeast           19270    12588                  7295   \n",
       "220     Midwest           26277    10065                 13569   \n",
       "220       South           21595     6733                 15951   \n",
       "220       South           16094     7224                 11840   \n",
       "220        West           19772     6866                 25259   \n",
       "\n",
       "                                            Description  \n",
       "Rank                                                     \n",
       "1     Princeton, the fourth-oldest college in the Un...  \n",
       "2     Harvard is located in Cambridge, Massachusetts...  \n",
       "3     The University of Chicago, situated in Chicago...  \n",
       "3     Yale University, located in New Haven, Connect...  \n",
       "5     Columbia University, located in Manhattan's Mo...  \n",
       "...                                                 ...  \n",
       "220   Located about 60 miles south of Boston, the Un...  \n",
       "220   Undergraduates at University of Missouri--St. ...  \n",
       "220   University of North Carolina--Greensboro is lo...  \n",
       "220   The University of Southern Mississippi has two...  \n",
       "220   Founded in 1888, Utah State University is a pu...  \n",
       "\n",
       "[231 rows x 8 columns]"
      ]
     },
     "execution_count": 11,
     "metadata": {},
     "output_type": "execute_result"
    }
   ],
   "source": [
    "#Drop location and index column \n",
    "#Set city and state to index 2 and 3 after university name\n",
    "cols_to_drop = ['index','Location']\n",
    "uni_ranks.drop(cols_to_drop, axis = 1)\n",
    "cols_order = ['Rank','Name', 'City', 'State','Region','Tuition and fees','In-state',\n",
    "              'Undergrad Enrollment','Description']\n",
    "uni_ranks = uni_ranks[cols_order]\n",
    "uni_ranks.set_index('Rank')"
   ]
  },
  {
   "cell_type": "code",
   "execution_count": 12,
   "id": "847b765e",
   "metadata": {
    "execution": {
     "iopub.execute_input": "2022-12-07T15:33:23.917656Z",
     "iopub.status.busy": "2022-12-07T15:33:23.916606Z",
     "iopub.status.idle": "2022-12-07T15:33:23.923619Z",
     "shell.execute_reply": "2022-12-07T15:33:23.922465Z"
    },
    "papermill": {
     "duration": 0.018597,
     "end_time": "2022-12-07T15:33:23.926207",
     "exception": false,
     "start_time": "2022-12-07T15:33:23.907610",
     "status": "completed"
    },
    "tags": []
   },
   "outputs": [
    {
     "data": {
      "text/plain": [
       "(231, 9)"
      ]
     },
     "execution_count": 12,
     "metadata": {},
     "output_type": "execute_result"
    }
   ],
   "source": [
    "#df shape\n",
    "uni_ranks.shape"
   ]
  },
  {
   "cell_type": "code",
   "execution_count": 13,
   "id": "b85d6033",
   "metadata": {
    "execution": {
     "iopub.execute_input": "2022-12-07T15:33:23.944476Z",
     "iopub.status.busy": "2022-12-07T15:33:23.943813Z",
     "iopub.status.idle": "2022-12-07T15:33:23.952398Z",
     "shell.execute_reply": "2022-12-07T15:33:23.951275Z"
    },
    "papermill": {
     "duration": 0.020696,
     "end_time": "2022-12-07T15:33:23.955041",
     "exception": false,
     "start_time": "2022-12-07T15:33:23.934345",
     "status": "completed"
    },
    "tags": []
   },
   "outputs": [
    {
     "data": {
      "text/plain": [
       "Rank                     0\n",
       "Name                     0\n",
       "City                     0\n",
       "State                    0\n",
       "Region                   0\n",
       "Tuition and fees         0\n",
       "In-state                98\n",
       "Undergrad Enrollment     0\n",
       "Description              0\n",
       "dtype: int64"
      ]
     },
     "execution_count": 13,
     "metadata": {},
     "output_type": "execute_result"
    }
   ],
   "source": [
    "#How many nulls do we have in our data?\n",
    "uni_ranks.isna().sum()"
   ]
  },
  {
   "cell_type": "code",
   "execution_count": 14,
   "id": "62e7e002",
   "metadata": {
    "execution": {
     "iopub.execute_input": "2022-12-07T15:33:23.974377Z",
     "iopub.status.busy": "2022-12-07T15:33:23.973618Z",
     "iopub.status.idle": "2022-12-07T15:33:23.992740Z",
     "shell.execute_reply": "2022-12-07T15:33:23.991255Z"
    },
    "papermill": {
     "duration": 0.031761,
     "end_time": "2022-12-07T15:33:23.995307",
     "exception": false,
     "start_time": "2022-12-07T15:33:23.963546",
     "status": "completed"
    },
    "tags": []
   },
   "outputs": [
    {
     "data": {
      "text/html": [
       "<div>\n",
       "<style scoped>\n",
       "    .dataframe tbody tr th:only-of-type {\n",
       "        vertical-align: middle;\n",
       "    }\n",
       "\n",
       "    .dataframe tbody tr th {\n",
       "        vertical-align: top;\n",
       "    }\n",
       "\n",
       "    .dataframe thead th {\n",
       "        text-align: right;\n",
       "    }\n",
       "</style>\n",
       "<table border=\"1\" class=\"dataframe\">\n",
       "  <thead>\n",
       "    <tr style=\"text-align: right;\">\n",
       "      <th></th>\n",
       "      <th>Rank</th>\n",
       "      <th>Name</th>\n",
       "      <th>City</th>\n",
       "      <th>State</th>\n",
       "      <th>Region</th>\n",
       "      <th>Tuition and fees</th>\n",
       "      <th>In-state</th>\n",
       "      <th>Undergrad Enrollment</th>\n",
       "      <th>Description</th>\n",
       "    </tr>\n",
       "  </thead>\n",
       "  <tbody>\n",
       "    <tr>\n",
       "      <th>0</th>\n",
       "      <td>1</td>\n",
       "      <td>Princeton University</td>\n",
       "      <td>Princeton</td>\n",
       "      <td>NJ</td>\n",
       "      <td>Northeast</td>\n",
       "      <td>45320</td>\n",
       "      <td>0</td>\n",
       "      <td>5402</td>\n",
       "      <td>Princeton, the fourth-oldest college in the Un...</td>\n",
       "    </tr>\n",
       "    <tr>\n",
       "      <th>1</th>\n",
       "      <td>2</td>\n",
       "      <td>Harvard University</td>\n",
       "      <td>Cambridge</td>\n",
       "      <td>MA</td>\n",
       "      <td>Northeast</td>\n",
       "      <td>47074</td>\n",
       "      <td>0</td>\n",
       "      <td>6699</td>\n",
       "      <td>Harvard is located in Cambridge, Massachusetts...</td>\n",
       "    </tr>\n",
       "    <tr>\n",
       "      <th>2</th>\n",
       "      <td>3</td>\n",
       "      <td>University of Chicago</td>\n",
       "      <td>Chicago</td>\n",
       "      <td>IL</td>\n",
       "      <td>Midwest</td>\n",
       "      <td>52491</td>\n",
       "      <td>0</td>\n",
       "      <td>5844</td>\n",
       "      <td>The University of Chicago, situated in Chicago...</td>\n",
       "    </tr>\n",
       "    <tr>\n",
       "      <th>3</th>\n",
       "      <td>3</td>\n",
       "      <td>Yale University</td>\n",
       "      <td>New Haven</td>\n",
       "      <td>CT</td>\n",
       "      <td>Northeast</td>\n",
       "      <td>49480</td>\n",
       "      <td>0</td>\n",
       "      <td>5532</td>\n",
       "      <td>Yale University, located in New Haven, Connect...</td>\n",
       "    </tr>\n",
       "    <tr>\n",
       "      <th>4</th>\n",
       "      <td>5</td>\n",
       "      <td>Columbia University</td>\n",
       "      <td>New York</td>\n",
       "      <td>NY</td>\n",
       "      <td>Northeast</td>\n",
       "      <td>55056</td>\n",
       "      <td>0</td>\n",
       "      <td>6102</td>\n",
       "      <td>Columbia University, located in Manhattan's Mo...</td>\n",
       "    </tr>\n",
       "  </tbody>\n",
       "</table>\n",
       "</div>"
      ],
      "text/plain": [
       "   Rank                   Name       City State     Region Tuition and fees  \\\n",
       "0     1   Princeton University  Princeton    NJ  Northeast           45320    \n",
       "1     2     Harvard University  Cambridge    MA  Northeast           47074    \n",
       "2     3  University of Chicago    Chicago    IL    Midwest           52491    \n",
       "3     3        Yale University  New Haven    CT  Northeast           49480    \n",
       "4     5    Columbia University   New York    NY  Northeast           55056    \n",
       "\n",
       "  In-state Undergrad Enrollment  \\\n",
       "0        0                 5402   \n",
       "1        0                 6699   \n",
       "2        0                 5844   \n",
       "3        0                 5532   \n",
       "4        0                 6102   \n",
       "\n",
       "                                         Description  \n",
       "0  Princeton, the fourth-oldest college in the Un...  \n",
       "1  Harvard is located in Cambridge, Massachusetts...  \n",
       "2  The University of Chicago, situated in Chicago...  \n",
       "3  Yale University, located in New Haven, Connect...  \n",
       "4  Columbia University, located in Manhattan's Mo...  "
      ]
     },
     "execution_count": 14,
     "metadata": {},
     "output_type": "execute_result"
    }
   ],
   "source": [
    "#Replace null values for instate tuition with 0 assuming no information available\n",
    "#Could also assume the tuition option is the same for both in and out of state students for schools with no in state information\n",
    "uni_ranks['In-state'].fillna('0', inplace = True)\n",
    "uni_ranks.head()"
   ]
  },
  {
   "cell_type": "code",
   "execution_count": 15,
   "id": "9d291d62",
   "metadata": {
    "execution": {
     "iopub.execute_input": "2022-12-07T15:33:24.015705Z",
     "iopub.status.busy": "2022-12-07T15:33:24.014466Z",
     "iopub.status.idle": "2022-12-07T15:33:24.032731Z",
     "shell.execute_reply": "2022-12-07T15:33:24.031468Z"
    },
    "papermill": {
     "duration": 0.03078,
     "end_time": "2022-12-07T15:33:24.035486",
     "exception": false,
     "start_time": "2022-12-07T15:33:24.004706",
     "status": "completed"
    },
    "tags": []
   },
   "outputs": [
    {
     "data": {
      "text/html": [
       "<div>\n",
       "<style scoped>\n",
       "    .dataframe tbody tr th:only-of-type {\n",
       "        vertical-align: middle;\n",
       "    }\n",
       "\n",
       "    .dataframe tbody tr th {\n",
       "        vertical-align: top;\n",
       "    }\n",
       "\n",
       "    .dataframe thead th {\n",
       "        text-align: right;\n",
       "    }\n",
       "</style>\n",
       "<table border=\"1\" class=\"dataframe\">\n",
       "  <thead>\n",
       "    <tr style=\"text-align: right;\">\n",
       "      <th></th>\n",
       "      <th>Rank</th>\n",
       "      <th>Name</th>\n",
       "      <th>City</th>\n",
       "      <th>State</th>\n",
       "      <th>Region</th>\n",
       "      <th>Tuition and fees</th>\n",
       "      <th>In-state</th>\n",
       "      <th>Undergrad Enrollment</th>\n",
       "      <th>Description</th>\n",
       "    </tr>\n",
       "  </thead>\n",
       "  <tbody>\n",
       "    <tr>\n",
       "      <th>21</th>\n",
       "      <td>20</td>\n",
       "      <td>University of California--Berkeley</td>\n",
       "      <td>Berkeley</td>\n",
       "      <td>CA</td>\n",
       "      <td>West</td>\n",
       "      <td>40191</td>\n",
       "      <td>13509</td>\n",
       "      <td>27496</td>\n",
       "      <td>The University of California--Berkeley, often ...</td>\n",
       "    </tr>\n",
       "    <tr>\n",
       "      <th>24</th>\n",
       "      <td>24</td>\n",
       "      <td>University of California--Los Angeles</td>\n",
       "      <td>Los Angeles</td>\n",
       "      <td>CA</td>\n",
       "      <td>West</td>\n",
       "      <td>39518</td>\n",
       "      <td>12836</td>\n",
       "      <td>29585</td>\n",
       "      <td>The University of California--Los Angeles, com...</td>\n",
       "    </tr>\n",
       "    <tr>\n",
       "      <th>25</th>\n",
       "      <td>24</td>\n",
       "      <td>University of Virginia</td>\n",
       "      <td>Charlottesville</td>\n",
       "      <td>VA</td>\n",
       "      <td>South</td>\n",
       "      <td>45066</td>\n",
       "      <td>15722</td>\n",
       "      <td>16736</td>\n",
       "      <td>Founded by Thomas Jefferson, the University of...</td>\n",
       "    </tr>\n",
       "    <tr>\n",
       "      <th>27</th>\n",
       "      <td>27</td>\n",
       "      <td>University of Michigan--Ann Arbor</td>\n",
       "      <td>Ann Arbor</td>\n",
       "      <td>MI</td>\n",
       "      <td>Midwest</td>\n",
       "      <td>43476</td>\n",
       "      <td>13856</td>\n",
       "      <td>28312</td>\n",
       "      <td>The University of Michigan boasts one of the b...</td>\n",
       "    </tr>\n",
       "    <tr>\n",
       "      <th>29</th>\n",
       "      <td>30</td>\n",
       "      <td>University of North Carolina--Chapel Hill</td>\n",
       "      <td>Chapel Hill</td>\n",
       "      <td>NC</td>\n",
       "      <td>South</td>\n",
       "      <td>33916</td>\n",
       "      <td>8834</td>\n",
       "      <td>18415</td>\n",
       "      <td>The University of North Carolina--Chapel Hill,...</td>\n",
       "    </tr>\n",
       "  </tbody>\n",
       "</table>\n",
       "</div>"
      ],
      "text/plain": [
       "    Rank                                       Name             City State  \\\n",
       "21    20         University of California--Berkeley         Berkeley    CA   \n",
       "24    24      University of California--Los Angeles      Los Angeles    CA   \n",
       "25    24                     University of Virginia  Charlottesville    VA   \n",
       "27    27          University of Michigan--Ann Arbor        Ann Arbor    MI   \n",
       "29    30  University of North Carolina--Chapel Hill      Chapel Hill    NC   \n",
       "\n",
       "     Region Tuition and fees In-state Undergrad Enrollment  \\\n",
       "21     West           40191    13509                 27496   \n",
       "24     West           39518    12836                 29585   \n",
       "25    South           45066    15722                 16736   \n",
       "27  Midwest           43476    13856                 28312   \n",
       "29    South           33916     8834                 18415   \n",
       "\n",
       "                                          Description  \n",
       "21  The University of California--Berkeley, often ...  \n",
       "24  The University of California--Los Angeles, com...  \n",
       "25  Founded by Thomas Jefferson, the University of...  \n",
       "27  The University of Michigan boasts one of the b...  \n",
       "29  The University of North Carolina--Chapel Hill,...  "
      ]
     },
     "execution_count": 15,
     "metadata": {},
     "output_type": "execute_result"
    }
   ],
   "source": [
    "#Filter out for schools that have both out of state and in state fees information\n",
    "uni_instate_over0 = uni_ranks[uni_ranks['In-state'] > '0']\n",
    "uni_instate_over0.head()"
   ]
  },
  {
   "cell_type": "code",
   "execution_count": 16,
   "id": "8fc86951",
   "metadata": {
    "execution": {
     "iopub.execute_input": "2022-12-07T15:33:24.054633Z",
     "iopub.status.busy": "2022-12-07T15:33:24.054232Z",
     "iopub.status.idle": "2022-12-07T15:33:24.063660Z",
     "shell.execute_reply": "2022-12-07T15:33:24.062052Z"
    },
    "papermill": {
     "duration": 0.023129,
     "end_time": "2022-12-07T15:33:24.067312",
     "exception": false,
     "start_time": "2022-12-07T15:33:24.044183",
     "status": "completed"
    },
    "tags": []
   },
   "outputs": [
    {
     "name": "stdout",
     "output_type": "stream",
     "text": [
      "Rank                     int64\n",
      "Name                    object\n",
      "City                    object\n",
      "State                   object\n",
      "Region                  object\n",
      "Tuition and fees        object\n",
      "In-state                object\n",
      "Undergrad Enrollment    object\n",
      "Description             object\n",
      "dtype: object\n",
      "Rank                     int64\n",
      "Name                    object\n",
      "City                    object\n",
      "State                   object\n",
      "Region                  object\n",
      "Tuition and fees        object\n",
      "In-state                object\n",
      "Undergrad Enrollment    object\n",
      "Description             object\n",
      "dtype: object\n"
     ]
    }
   ],
   "source": [
    "#df object data types\n",
    "print(uni_ranks.dtypes)\n",
    "print(uni_instate_over0.dtypes)"
   ]
  },
  {
   "cell_type": "code",
   "execution_count": 17,
   "id": "44f2ca13",
   "metadata": {
    "execution": {
     "iopub.execute_input": "2022-12-07T15:33:24.086666Z",
     "iopub.status.busy": "2022-12-07T15:33:24.086284Z",
     "iopub.status.idle": "2022-12-07T15:33:24.099654Z",
     "shell.execute_reply": "2022-12-07T15:33:24.098096Z"
    },
    "papermill": {
     "duration": 0.028353,
     "end_time": "2022-12-07T15:33:24.104364",
     "exception": false,
     "start_time": "2022-12-07T15:33:24.076011",
     "status": "completed"
    },
    "tags": []
   },
   "outputs": [
    {
     "name": "stdout",
     "output_type": "stream",
     "text": [
      "Rank                     int64\n",
      "Name                    object\n",
      "City                    object\n",
      "State                   object\n",
      "Region                  object\n",
      "Tuition and fees         int64\n",
      "In-state                 int64\n",
      "Undergrad Enrollment     int64\n",
      "Description             object\n",
      "dtype: object\n",
      "Rank                     int64\n",
      "Name                    object\n",
      "City                    object\n",
      "State                   object\n",
      "Region                  object\n",
      "Tuition and fees         int64\n",
      "In-state                 int64\n",
      "Undergrad Enrollment     int64\n",
      "Description             object\n",
      "dtype: object\n"
     ]
    }
   ],
   "source": [
    "#Tuition, in state, and enrollment are being read as objects. Convert columns into ints\n",
    "cols_to_convert = ['Tuition and fees', 'In-state','Undergrad Enrollment']\n",
    "uni_ranks[cols_to_convert] = uni_ranks[cols_to_convert].astype(int)\n",
    "uni_instate_over0[cols_to_convert] = uni_instate_over0[cols_to_convert].astype(int)\n",
    "\n",
    "print(uni_ranks.dtypes)\n",
    "print(uni_instate_over0.dtypes)"
   ]
  },
  {
   "cell_type": "code",
   "execution_count": 18,
   "id": "02911079",
   "metadata": {
    "execution": {
     "iopub.execute_input": "2022-12-07T15:33:24.124334Z",
     "iopub.status.busy": "2022-12-07T15:33:24.123369Z",
     "iopub.status.idle": "2022-12-07T15:33:24.164403Z",
     "shell.execute_reply": "2022-12-07T15:33:24.162923Z"
    },
    "papermill": {
     "duration": 0.05392,
     "end_time": "2022-12-07T15:33:24.167194",
     "exception": false,
     "start_time": "2022-12-07T15:33:24.113274",
     "status": "completed"
    },
    "tags": []
   },
   "outputs": [
    {
     "name": "stdout",
     "output_type": "stream",
     "text": [
      "       Tuition and fees  In-state  Undergrad Enrollment\n",
      "count            231.00    231.00                231.00\n",
      "mean           33769.25   6273.29              14946.62\n",
      "std            10756.73   5867.09              10569.66\n",
      "min             5300.00      0.00               1001.00\n",
      "25%            25693.00      0.00               6238.50\n",
      "50%            31608.00   7224.00              12949.00\n",
      "75%            42721.00  10936.00              22145.50\n",
      "max            55056.00  18687.00              54513.00\n",
      "       Tuition and fees  In-state  Undergrad Enrollment\n",
      "count            133.00    133.00                133.00\n",
      "mean           27393.02  10895.71              20883.32\n",
      "std             6856.98   3038.57               9674.16\n",
      "min            11403.00   4965.00               1839.00\n",
      "25%            22210.00   8820.00              13569.00\n",
      "50%            26399.00  10622.00              20182.00\n",
      "75%            31424.00  13296.00              26590.00\n",
      "max            45066.00  18687.00              54513.00\n"
     ]
    }
   ],
   "source": [
    "#General Stats for both datasets\n",
    "print(uni_ranks[cols_to_clean].describe().round(2))\n",
    "print(uni_instate_over0[cols_to_clean].describe().round(2))"
   ]
  },
  {
   "cell_type": "code",
   "execution_count": 19,
   "id": "f86df6c0",
   "metadata": {
    "execution": {
     "iopub.execute_input": "2022-12-07T15:33:24.189164Z",
     "iopub.status.busy": "2022-12-07T15:33:24.187268Z",
     "iopub.status.idle": "2022-12-07T15:33:24.218324Z",
     "shell.execute_reply": "2022-12-07T15:33:24.217026Z"
    },
    "papermill": {
     "duration": 0.044781,
     "end_time": "2022-12-07T15:33:24.221052",
     "exception": false,
     "start_time": "2022-12-07T15:33:24.176271",
     "status": "completed"
    },
    "tags": []
   },
   "outputs": [
    {
     "data": {
      "text/html": [
       "<div>\n",
       "<style scoped>\n",
       "    .dataframe tbody tr th:only-of-type {\n",
       "        vertical-align: middle;\n",
       "    }\n",
       "\n",
       "    .dataframe tbody tr th {\n",
       "        vertical-align: top;\n",
       "    }\n",
       "\n",
       "    .dataframe thead th {\n",
       "        text-align: right;\n",
       "    }\n",
       "</style>\n",
       "<table border=\"1\" class=\"dataframe\">\n",
       "  <thead>\n",
       "    <tr style=\"text-align: right;\">\n",
       "      <th></th>\n",
       "      <th></th>\n",
       "      <th>Tuition and fees</th>\n",
       "      <th>In-state</th>\n",
       "      <th>Undergrad Enrollment</th>\n",
       "    </tr>\n",
       "    <tr>\n",
       "      <th>State</th>\n",
       "      <th>Region</th>\n",
       "      <th></th>\n",
       "      <th></th>\n",
       "      <th></th>\n",
       "    </tr>\n",
       "  </thead>\n",
       "  <tbody>\n",
       "    <tr>\n",
       "      <th>DC</th>\n",
       "      <th>Northeast</th>\n",
       "      <td>42958.80</td>\n",
       "      <td>0.00</td>\n",
       "      <td>7398.20</td>\n",
       "    </tr>\n",
       "    <tr>\n",
       "      <th>NH</th>\n",
       "      <th>Northeast</th>\n",
       "      <td>41431.00</td>\n",
       "      <td>8812.00</td>\n",
       "      <td>8670.50</td>\n",
       "    </tr>\n",
       "    <tr>\n",
       "      <th>CT</th>\n",
       "      <th>Northeast</th>\n",
       "      <td>41042.67</td>\n",
       "      <td>4688.67</td>\n",
       "      <td>9868.00</td>\n",
       "    </tr>\n",
       "    <tr>\n",
       "      <th>MA</th>\n",
       "      <th>Northeast</th>\n",
       "      <td>40715.33</td>\n",
       "      <td>3549.33</td>\n",
       "      <td>8733.13</td>\n",
       "    </tr>\n",
       "    <tr>\n",
       "      <th>VT</th>\n",
       "      <th>Northeast</th>\n",
       "      <td>40364.00</td>\n",
       "      <td>17300.00</td>\n",
       "      <td>10973.00</td>\n",
       "    </tr>\n",
       "  </tbody>\n",
       "</table>\n",
       "</div>"
      ],
      "text/plain": [
       "                 Tuition and fees  In-state  Undergrad Enrollment\n",
       "State Region                                                     \n",
       "DC    Northeast          42958.80      0.00               7398.20\n",
       "NH    Northeast          41431.00   8812.00               8670.50\n",
       "CT    Northeast          41042.67   4688.67               9868.00\n",
       "MA    Northeast          40715.33   3549.33               8733.13\n",
       "VT    Northeast          40364.00  17300.00              10973.00"
      ]
     },
     "execution_count": 19,
     "metadata": {},
     "output_type": "execute_result"
    }
   ],
   "source": [
    "#Average tuition and enrollment by state for all school\n",
    "#Sort by highest tuition\n",
    "#Print out top 5 schools with highest average tuition\n",
    "uni_by_state_all = uni_ranks.groupby(['State','Region'])[cols_to_clean].mean().round(2)\n",
    "uni_by_state_all.sort_values('Tuition and fees', ascending = False, inplace = True)\n",
    "uni_by_state_all[:5]"
   ]
  },
  {
   "cell_type": "code",
   "execution_count": 20,
   "id": "5ae16fe8",
   "metadata": {
    "execution": {
     "iopub.execute_input": "2022-12-07T15:33:24.242439Z",
     "iopub.status.busy": "2022-12-07T15:33:24.241209Z",
     "iopub.status.idle": "2022-12-07T15:33:24.261601Z",
     "shell.execute_reply": "2022-12-07T15:33:24.260308Z"
    },
    "papermill": {
     "duration": 0.034117,
     "end_time": "2022-12-07T15:33:24.264227",
     "exception": false,
     "start_time": "2022-12-07T15:33:24.230110",
     "status": "completed"
    },
    "tags": []
   },
   "outputs": [
    {
     "data": {
      "text/html": [
       "<div>\n",
       "<style scoped>\n",
       "    .dataframe tbody tr th:only-of-type {\n",
       "        vertical-align: middle;\n",
       "    }\n",
       "\n",
       "    .dataframe tbody tr th {\n",
       "        vertical-align: top;\n",
       "    }\n",
       "\n",
       "    .dataframe thead th {\n",
       "        text-align: right;\n",
       "    }\n",
       "</style>\n",
       "<table border=\"1\" class=\"dataframe\">\n",
       "  <thead>\n",
       "    <tr style=\"text-align: right;\">\n",
       "      <th></th>\n",
       "      <th></th>\n",
       "      <th>Tuition and fees</th>\n",
       "      <th>In-state</th>\n",
       "      <th>Undergrad Enrollment</th>\n",
       "    </tr>\n",
       "    <tr>\n",
       "      <th>State</th>\n",
       "      <th>Region</th>\n",
       "      <th></th>\n",
       "      <th></th>\n",
       "      <th></th>\n",
       "    </tr>\n",
       "  </thead>\n",
       "  <tbody>\n",
       "    <tr>\n",
       "      <th>VT</th>\n",
       "      <th>Northeast</th>\n",
       "      <td>40364.00</td>\n",
       "      <td>17300.00</td>\n",
       "      <td>10973.00</td>\n",
       "    </tr>\n",
       "    <tr>\n",
       "      <th>CT</th>\n",
       "      <th>Northeast</th>\n",
       "      <td>35858.00</td>\n",
       "      <td>14066.00</td>\n",
       "      <td>18826.00</td>\n",
       "    </tr>\n",
       "    <tr>\n",
       "      <th>CA</th>\n",
       "      <th>West</th>\n",
       "      <td>34623.58</td>\n",
       "      <td>12008.58</td>\n",
       "      <td>23571.17</td>\n",
       "    </tr>\n",
       "    <tr>\n",
       "      <th>VA</th>\n",
       "      <th>South</th>\n",
       "      <td>34562.17</td>\n",
       "      <td>13614.17</td>\n",
       "      <td>19272.50</td>\n",
       "    </tr>\n",
       "    <tr>\n",
       "      <th>HI</th>\n",
       "      <th>West</th>\n",
       "      <td>33764.00</td>\n",
       "      <td>11732.00</td>\n",
       "      <td>13689.00</td>\n",
       "    </tr>\n",
       "  </tbody>\n",
       "</table>\n",
       "</div>"
      ],
      "text/plain": [
       "                 Tuition and fees  In-state  Undergrad Enrollment\n",
       "State Region                                                     \n",
       "VT    Northeast          40364.00  17300.00              10973.00\n",
       "CT    Northeast          35858.00  14066.00              18826.00\n",
       "CA    West               34623.58  12008.58              23571.17\n",
       "VA    South              34562.17  13614.17              19272.50\n",
       "HI    West               33764.00  11732.00              13689.00"
      ]
     },
     "execution_count": 20,
     "metadata": {},
     "output_type": "execute_result"
    }
   ],
   "source": [
    "#Average tuition and enrollment by state for schools with both tuition information\n",
    "#Sort by highest tuition\n",
    "#Print out top 5 schools with highest average tuition\n",
    "uni_by_instate = uni_instate_over0.groupby(['State','Region'])[cols_to_clean].mean().round(2)\n",
    "uni_by_instate.sort_values('Tuition and fees', ascending = False, inplace = True)\n",
    "uni_by_instate[:5]"
   ]
  },
  {
   "cell_type": "code",
   "execution_count": 21,
   "id": "7ba1b42b",
   "metadata": {
    "execution": {
     "iopub.execute_input": "2022-12-07T15:33:24.284683Z",
     "iopub.status.busy": "2022-12-07T15:33:24.283788Z",
     "iopub.status.idle": "2022-12-07T15:33:25.425294Z",
     "shell.execute_reply": "2022-12-07T15:33:25.423950Z"
    },
    "papermill": {
     "duration": 1.154898,
     "end_time": "2022-12-07T15:33:25.428053",
     "exception": false,
     "start_time": "2022-12-07T15:33:24.273155",
     "status": "completed"
    },
    "tags": []
   },
   "outputs": [
    {
     "data": {
      "text/plain": [
       "Text(0.5, 1.0, 'Total Tuition and Fees by Enrollment Numbers and Region')"
      ]
     },
     "execution_count": 21,
     "metadata": {},
     "output_type": "execute_result"
    },
    {
     "data": {
      "image/png": "[encoded data removed]",
      "text/plain": [
       "<Figure size 432x288 with 1 Axes>"
      ]
     },
     "metadata": {},
     "output_type": "display_data"
    },
    {
     "data": {
      "image/png": "[encoded data removed]",
      "text/plain": [
       "<Figure size 360x360 with 1 Axes>"
      ]
     },
     "metadata": {},
     "output_type": "display_data"
    }
   ],
   "source": [
    "#Plot enrollment numbers and tuition feed, color by region for all schools\n",
    "#Do we see any patterns in the tuition and fees for certain regions?\n",
    "sns.scatterplot(data = uni_by_state_all, x = 'Undergrad Enrollment', y='Tuition and fees',\n",
    "               hue = 'Region')\n",
    "plt.title('Total Tuition and Fees by Enrollment Numbers and Region')\n",
    "sns.lmplot(data = uni_by_state_all, x = 'Undergrad Enrollment', y='Tuition and fees')\n",
    "plt.title('Total Tuition and Fees by Enrollment Numbers and Region')"
   ]
  },
  {
   "cell_type": "code",
   "execution_count": 22,
   "id": "8b988b56",
   "metadata": {
    "execution": {
     "iopub.execute_input": "2022-12-07T15:33:25.450782Z",
     "iopub.status.busy": "2022-12-07T15:33:25.450317Z",
     "iopub.status.idle": "2022-12-07T15:33:26.498243Z",
     "shell.execute_reply": "2022-12-07T15:33:26.497029Z"
    },
    "papermill": {
     "duration": 1.062187,
     "end_time": "2022-12-07T15:33:26.500801",
     "exception": false,
     "start_time": "2022-12-07T15:33:25.438614",
     "status": "completed"
    },
    "tags": []
   },
   "outputs": [
    {
     "data": {
      "text/plain": [
       "Text(0.5, 1.0, 'In-state tuition by Enrollment Numbers and Region')"
      ]
     },
     "execution_count": 22,
     "metadata": {},
     "output_type": "execute_result"
    },
    {
     "data": {
      "image/png": "[encoded data removed]",
      "text/plain": [
       "<Figure size 432x288 with 1 Axes>"
      ]
     },
     "metadata": {},
     "output_type": "display_data"
    },
    {
     "data": {
      "image/png": "[encoded data removed]",
      "text/plain": [
       "<Figure size 360x360 with 1 Axes>"
      ]
     },
     "metadata": {},
     "output_type": "display_data"
    }
   ],
   "source": [
    "#Plot enrollment numbers and tuition feed, color by region for only schools with in-state information\n",
    "#Do we see any patterns in the tuition and fees for certain regions?\n",
    "sns.scatterplot(data = uni_by_instate, x = 'Undergrad Enrollment', y='In-state',\n",
    "               hue = 'Region')\n",
    "plt.title('Total In-state tuition by Enrollment Numbers and Region')\n",
    "sns.lmplot(data = uni_by_instate, x = 'Undergrad Enrollment', y='In-state')\n",
    "plt.title('In-state tuition by Enrollment Numbers and Region')"
   ]
  }
 ],
 "metadata": {
  "kernelspec": {
   "display_name": "Python 3",
   "language": "python",
   "name": "python3"
  },
  "language_info": {
   "codemirror_mode": {
    "name": "ipython",
    "version": 3
   },
   "file_extension": ".py",
   "mimetype": "text/x-python",
   "name": "python",
   "nbconvert_exporter": "python",
   "pygments_lexer": "ipython3",
   "version": "3.7.12"
  },
  "papermill": {
   "default_parameters": {},
   "duration": 14.714378,
   "end_time": "2022-12-07T15:33:27.335018",
   "environment_variables": {},
   "exception": null,
   "input_path": "__notebook__.ipynb",
   "output_path": "__notebook__.ipynb",
   "parameters": {},
   "start_time": "2022-12-07T15:33:12.620640",
   "version": "2.3.4"
  }
 },
 "nbformat": 4,
 "nbformat_minor": 5
}
